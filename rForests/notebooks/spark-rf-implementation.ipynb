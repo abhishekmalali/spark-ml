{
 "cells": [
  {
   "cell_type": "code",
   "execution_count": 2,
   "metadata": {
    "collapsed": true
   },
   "outputs": [],
   "source": [
    "import findspark\n",
    "findspark.init()\n",
    "import pyspark\n",
    "sc = pyspark.SparkContext()"
   ]
  },
  {
   "cell_type": "code",
   "execution_count": 3,
   "metadata": {
    "collapsed": true
   },
   "outputs": [],
   "source": [
    "txtFile=sc.textFile('../data/covtype.csv')\n",
    "#Convert it into RDD of lists \n",
    "rdd=(txtFile.map(lambda x:x.split())\n",
    "    .map(lambda x: x[0].strip(\"'\").split(\",\"))\n",
    "    .map(lambda x:[float(v) for v in x])\n",
    "    .map(lambda x: (x[-1]-1,x[0:-1])))"
   ]
  },
  {
   "cell_type": "code",
   "execution_count": 4,
   "metadata": {
    "collapsed": true
   },
   "outputs": [],
   "source": [
    "import itertools\n",
    "soil_list =[]\n",
    "for k in range(40):\n",
    "    string = 'Soil_Type_' + str(k+1)\n",
    "    soil_list.append(string)\n",
    "WA_list =[]\n",
    "for k in range(4):\n",
    "    string = 'WA_' + str(k+1)\n",
    "    WA_list.append(string)\n",
    "names = [['Elevation'], ['Aspect'], ['Slope'], ['HDHyrdo'], ['VDHydro'], ['HDRoadways'], \\\n",
    "         ['9amHills'],['NoonHills'], ['3pmHills'], ['HDFirePoints'], WA_list,\\\n",
    "         soil_list, ['Cover_Type']]\n",
    "columns = list(itertools.chain(*names))"
   ]
  },
  {
   "cell_type": "code",
   "execution_count": 5,
   "metadata": {
    "collapsed": true
   },
   "outputs": [],
   "source": [
    "import random"
   ]
  },
  {
   "cell_type": "code",
   "execution_count": 90,
   "metadata": {
    "collapsed": true
   },
   "outputs": [],
   "source": [
    "#selecting random features\n",
    "m = 5 #No of features\n",
    "indices = range(len(columns)-1)\n",
    "random.shuffle(indices)\n",
    "sampled_c = [columns[j] for j in indices[:m]]"
   ]
  },
  {
   "cell_type": "code",
   "execution_count": 91,
   "metadata": {
    "collapsed": false
   },
   "outputs": [
    {
     "name": "stdout",
     "output_type": "stream",
     "text": [
      "CPU times: user 24 µs, sys: 1 µs, total: 25 µs\n",
      "Wall time: 28.1 µs\n"
     ]
    }
   ],
   "source": [
    "#Code for implementing in rdd\n",
    "%time sampled_rdd = rdd.map(lambda x: (x[0],[x[1][j] for j in indices[:m]]))"
   ]
  },
  {
   "cell_type": "code",
   "execution_count": 8,
   "metadata": {
    "collapsed": true
   },
   "outputs": [],
   "source": [
    "#Imports - move later to top\n",
    "import numpy as np"
   ]
  },
  {
   "cell_type": "code",
   "execution_count": 9,
   "metadata": {
    "collapsed": true
   },
   "outputs": [],
   "source": [
    "#total counts of the data\n",
    "t_count = rdd.count()"
   ]
  },
  {
   "cell_type": "code",
   "execution_count": 87,
   "metadata": {
    "collapsed": false
   },
   "outputs": [
    {
     "name": "stdout",
     "output_type": "stream",
     "text": [
      "CPU times: user 19.9 ms, sys: 5.2 ms, total: 25.1 ms\n",
      "Wall time: 40 ms\n",
      "CPU times: user 8.84 ms, sys: 2.15 ms, total: 11 ms\n",
      "Wall time: 8 s\n"
     ]
    }
   ],
   "source": [
    "##Implementing the ID3 and testing the Entropy\n",
    "test_index = 0\n",
    "%time entrop_score = entropy_score(sampled_rdd,test_index)\n",
    "%time entrop_score = entrop_score.take(1)[0][1]"
   ]
  },
  {
   "cell_type": "code",
   "execution_count": 10,
   "metadata": {
    "collapsed": false
   },
   "outputs": [],
   "source": [
    "def entropy_score(sampled_rdd,index):\n",
    "    new_rdd = sampled_rdd.map(lambda x:x[1][index]).map(lambda x:(x,1.0)).reduceByKey(lambda a,b:a+b)\\\n",
    "            .map(lambda x:(x[0],(-x[1]/t_count)*(np.log2(x[1]/t_count))))\\\n",
    "            .map(lambda x:(index,x[1])).reduceByKey(lambda a,b:a+b)\n",
    "    return new_rdd"
   ]
  },
  {
   "cell_type": "code",
   "execution_count": 28,
   "metadata": {
    "collapsed": true
   },
   "outputs": [],
   "source": [
    "def get_all_scores(sampled_rdd,m):\n",
    "    new_rdd = entropy_score(sampled_rdd,0)\n",
    "    for idx in range(1,m):\n",
    "        rdd_to_join = entropy_score(sampled_rdd,idx)\n",
    "        new_rdd = new_rdd.union(rdd_to_join)\n",
    "    return new_rdd"
   ]
  },
  {
   "cell_type": "code",
   "execution_count": 37,
   "metadata": {
    "collapsed": false
   },
   "outputs": [
    {
     "data": {
      "text/plain": [
       "[(1, 0.14900598458760123)]"
      ]
     },
     "execution_count": 37,
     "metadata": {},
     "output_type": "execute_result"
    }
   ],
   "source": [
    "%time entropy_score(sampled_rdd,1)"
   ]
  },
  {
   "cell_type": "code",
   "execution_count": 29,
   "metadata": {
    "collapsed": false
   },
   "outputs": [
    {
     "name": "stdout",
     "output_type": "stream",
     "text": [
      "CPU times: user 14.6 ms, sys: 3.09 ms, total: 17.7 ms\n",
      "Wall time: 31.9 ms\n"
     ]
    }
   ],
   "source": [
    "%time new_rdd = sampled_rdd.map(lambda x:x[1][test_index]).map(lambda x:(x,1.0)).reduceByKey(lambda a,b:a+b)\\\n",
    "            .map(lambda x:(x[0],(-x[1]/t_count)*(np.log2(x[1]/t_count))))\\\n",
    "            .map(lambda x:(1,x[1])).reduceByKey(lambda a,b:a+b)"
   ]
  },
  {
   "cell_type": "code",
   "execution_count": 30,
   "metadata": {
    "collapsed": false
   },
   "outputs": [
    {
     "name": "stdout",
     "output_type": "stream",
     "text": [
      "[(0, 0.16207143284308864), (3, 0.027547699424360673), (6, 0.0025077543955656055), (9, 0.0095463517593474476), (1, 0.14900598458760123), (4, 6.5981678852644112), (7, 11.375626917177499), (2, 0.71862713465838812), (5, 0.031695711359855931), (8, 7.2756316788852136)]\n",
      "CPU times: user 159 ms, sys: 36 ms, total: 195 ms\n",
      "Wall time: 1min 31s\n"
     ]
    }
   ],
   "source": [
    "%time print get_all_scores(sampled_rdd,m).collect()"
   ]
  },
  {
   "cell_type": "code",
   "execution_count": 88,
   "metadata": {
    "collapsed": false
   },
   "outputs": [
    {
     "name": "stdout",
     "output_type": "stream",
     "text": [
      "\n"
     ]
    }
   ],
   "source": [
    "def infoGain(sampled_rdd, attr=0, target_attr=0):\n",
    "    subset_entropy = 0\n",
    "    val_freq = sampled_rdd.map(lambda x:x[1][attr]).map(lambda x:(x,1.0)).reduceByKey(lambda a,b:a+b)\\\n",
    "            .map(lambda x:(x[0],x[1]/t_count))\n",
    "    val_freq = val_freq.collectAsMap()\n",
    "    classes = sampled_rdd.map(lambda x: x[1][attr]).distinct().collect()\n",
    "    print 'numClasses:',len(classes)\n",
    "    for cls in classes:\n",
    "        sub_rdd=sampled_rdd.filter(lambda x: x[1][attr]==cls)\n",
    "        try:\n",
    "            if sub_rdd.isEmpty() == True:\n",
    "                continue\n",
    "        except:\n",
    "            print \"Error in calculation. Moving on\"\n",
    "            continue\n",
    "        subs_entropy = entropy_score(sub_rdd,target_attr)\n",
    "        entropy = subs_entropy.collect()\n",
    "        entropy = entropy[0][1]\n",
    "        subset_entropy += entropy*val_freq[cls]\n",
    "    return entropy_score(sampled_rdd,target_attr).collect()[0][1] - subset_entropy"
   ]
  },
  {
   "cell_type": "code",
   "execution_count": 41,
   "metadata": {
    "collapsed": false
   },
   "outputs": [
    {
     "name": "stdout",
     "output_type": "stream",
     "text": [
      "{0.0: 0.9762380122957873, 1.0: 0.02376198770421265}\n",
      "0.530139880469\n",
      "0.544515664964\n",
      "CPU times: user 97.2 ms, sys: 22.2 ms, total: 119 ms\n",
      "Wall time: 44.1 s\n"
     ]
    },
    {
     "data": {
      "text/plain": [
       "-0.39550968037623996"
      ]
     },
     "execution_count": 41,
     "metadata": {},
     "output_type": "execute_result"
    }
   ],
   "source": [
    "%time infoGain(sampled_rdd,attr=0,target_attr=1)"
   ]
  },
  {
   "cell_type": "code",
   "execution_count": 78,
   "metadata": {
    "collapsed": false
   },
   "outputs": [],
   "source": [
    "def choose_attribute(sampled_rdd, attributes, target_attr):\n",
    "    best_gain = 0.0\n",
    "    best_attr = None\n",
    "    for attr in attributes:\n",
    "        gain = infoGain(sampled_rdd,attr,target_attr)\n",
    "        print attr,gain\n",
    "        if (gain >= best_gain and attr != target_attr):\n",
    "            best_gain = gain\n",
    "            best_attr = attr\n",
    "    \n",
    "    return best_gain,best_attr"
   ]
  },
  {
   "cell_type": "code",
   "execution_count": 92,
   "metadata": {
    "collapsed": false
   },
   "outputs": [
    {
     "data": {
      "text/plain": [
       "[50, 41, 34, 39, 27]"
      ]
     },
     "execution_count": 92,
     "metadata": {},
     "output_type": "execute_result"
    }
   ],
   "source": [
    "indices[:m]"
   ]
  },
  {
   "cell_type": "code",
   "execution_count": 93,
   "metadata": {
    "collapsed": false
   },
   "outputs": [
    {
     "name": "stdout",
     "output_type": "stream",
     "text": [
      "numClasses: 2\n",
      "0 0.00560298911277\n",
      "numClasses: 2\n",
      "1 -0.00235627158851\n",
      "numClasses: 2\n",
      "2 -0.00208572828512\n",
      "numClasses: 2\n",
      "3 -0.00650925980561\n",
      "numClasses: 2\n",
      "4 -0.00148830226104\n",
      "CPU times: user 505 ms, sys: 114 ms, total: 619 ms\n",
      "Wall time: 3min 46s\n"
     ]
    },
    {
     "data": {
      "text/plain": [
       "(0.0, None)"
      ]
     },
     "execution_count": 93,
     "metadata": {},
     "output_type": "execute_result"
    }
   ],
   "source": [
    "%time choose_attribute(sampled_rdd,range(m),0)"
   ]
  },
  {
   "cell_type": "code",
   "execution_count": null,
   "metadata": {
    "collapsed": true
   },
   "outputs": [],
   "source": []
  }
 ],
 "metadata": {
  "kernelspec": {
   "display_name": "Python 2",
   "language": "python",
   "name": "python2"
  },
  "language_info": {
   "codemirror_mode": {
    "name": "ipython",
    "version": 2
   },
   "file_extension": ".py",
   "mimetype": "text/x-python",
   "name": "python",
   "nbconvert_exporter": "python",
   "pygments_lexer": "ipython2",
   "version": "2.7.10"
  }
 },
 "nbformat": 4,
 "nbformat_minor": 0
}
