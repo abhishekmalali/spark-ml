{
 "cells": [
  {
   "cell_type": "code",
   "execution_count": 1,
   "metadata": {
    "collapsed": true
   },
   "outputs": [],
   "source": [
    "import findspark\n",
    "findspark.init()\n",
    "import pyspark\n",
    "sc = pyspark.SparkContext()"
   ]
  },
  {
   "cell_type": "code",
   "execution_count": 2,
   "metadata": {
    "collapsed": true
   },
   "outputs": [],
   "source": [
    "txtFile=sc.textFile('../data/covtype.csv')\n",
    "#Convert it into RDD of lists \n",
    "rdd=(txtFile.map(lambda x:x.split())\n",
    "    .map(lambda x: x[0].strip(\"'\").split(\",\"))\n",
    "    .map(lambda x:[float(v) for v in x])\n",
    "    .map(lambda x: (x[-1]-1,x[0:-1])))"
   ]
  },
  {
   "cell_type": "code",
   "execution_count": 11,
   "metadata": {
    "collapsed": true
   },
   "outputs": [],
   "source": [
    "import itertools\n",
    "soil_list =[]\n",
    "for k in range(40):\n",
    "    string = 'Soil_Type_' + str(k+1)\n",
    "    soil_list.append(string)\n",
    "WA_list =[]\n",
    "for k in range(4):\n",
    "    string = 'WA_' + str(k+1)\n",
    "    WA_list.append(string)\n",
    "names = [['Elevation'], ['Aspect'], ['Slope'], ['HDHyrdo'], ['VDHydro'], ['HDRoadways'], \\\n",
    "         ['9amHills'],['NoonHills'], ['3pmHills'], ['HDFirePoints'], WA_list,\\\n",
    "         soil_list, ['Cover_Type']]\n",
    "columns = list(itertools.chain(*names))"
   ]
  },
  {
   "cell_type": "code",
   "execution_count": 13,
   "metadata": {
    "collapsed": true
   },
   "outputs": [],
   "source": [
    "import random"
   ]
  },
  {
   "cell_type": "code",
   "execution_count": 29,
   "metadata": {
    "collapsed": true
   },
   "outputs": [],
   "source": [
    "#selecting random features\n",
    "m = 10 #No of features\n",
    "indices = range(len(columns)-1)\n",
    "random.shuffle(indices)\n",
    "sampled_c = [columns[j] for j in indices[:m]]"
   ]
  },
  {
   "cell_type": "code",
   "execution_count": 36,
   "metadata": {
    "collapsed": false
   },
   "outputs": [
    {
     "name": "stdout",
     "output_type": "stream",
     "text": [
      "CPU times: user 33 µs, sys: 8 µs, total: 41 µs\n",
      "Wall time: 41 µs\n"
     ]
    }
   ],
   "source": [
    "#Code for implementing in rdd\n",
    "%time sampled_rdd = rdd.map(lambda x: (x[0],[x[1][j] for j in indices[:m]]))"
   ]
  },
  {
   "cell_type": "code",
   "execution_count": 57,
   "metadata": {
    "collapsed": true
   },
   "outputs": [],
   "source": [
    "#Imports - move later to top\n",
    "import numpy as np"
   ]
  },
  {
   "cell_type": "code",
   "execution_count": 58,
   "metadata": {
    "collapsed": true
   },
   "outputs": [],
   "source": [
    "#total counts of the data\n",
    "t_count = rdd.count()"
   ]
  },
  {
   "cell_type": "code",
   "execution_count": 87,
   "metadata": {
    "collapsed": false
   },
   "outputs": [
    {
     "name": "stdout",
     "output_type": "stream",
     "text": [
      "CPU times: user 19.9 ms, sys: 5.2 ms, total: 25.1 ms\n",
      "Wall time: 40 ms\n",
      "CPU times: user 8.84 ms, sys: 2.15 ms, total: 11 ms\n",
      "Wall time: 8 s\n"
     ]
    }
   ],
   "source": [
    "##Implementing the ID3 and testing the Entropy\n",
    "test_index = 0\n",
    "%time entrop_score = entropy_score(sampled_rdd,test_index)\n",
    "%time entrop_score = entrop_score.take(1)[0][1]"
   ]
  },
  {
   "cell_type": "code",
   "execution_count": 96,
   "metadata": {
    "collapsed": false
   },
   "outputs": [],
   "source": [
    "def entropy_score(sampled_rdd,index):\n",
    "    new_rdd = sampled_rdd.map(lambda x:x[1][index]).map(lambda x:(x,1.0)).reduceByKey(lambda a,b:a+b)\\\n",
    "            .map(lambda x:(x[0],(-x[1]/t_count)*(np.log2(x[1]/t_count))))\\\n",
    "            .map(lambda x:(index,x[1])).reduceByKey(lambda a,b:a+b)\n",
    "    return new_rdd"
   ]
  },
  {
   "cell_type": "code",
   "execution_count": 101,
   "metadata": {
    "collapsed": true
   },
   "outputs": [],
   "source": [
    "def get_all_scores(sampled_rdd,m):\n",
    "    new_rdd = entropy_score(sampled_rdd,0)\n",
    "    for idx in range(1,m):\n",
    "        rdd_to_join = entropy_score(sampled_rdd,idx)\n",
    "        new_rdd = new_rdd.union(rdd_to_join)\n",
    "    return new_rdd"
   ]
  },
  {
   "cell_type": "code",
   "execution_count": null,
   "metadata": {
    "collapsed": true
   },
   "outputs": [],
   "source": []
  },
  {
   "cell_type": "code",
   "execution_count": 92,
   "metadata": {
    "collapsed": false
   },
   "outputs": [
    {
     "name": "stdout",
     "output_type": "stream",
     "text": [
      "CPU times: user 17.8 ms, sys: 7.69 ms, total: 25.5 ms\n",
      "Wall time: 46.3 ms\n"
     ]
    }
   ],
   "source": [
    "%time new_rdd = sampled_rdd.map(lambda x:x[1][test_index]).map(lambda x:(x,1.0)).reduceByKey(lambda a,b:a+b)\\\n",
    "            .map(lambda x:(x[0],(-x[1]/t_count)*(np.log2(x[1]/t_count))))\\\n",
    "            .map(lambda x:(1,x[1])).reduceByKey(lambda a,b:a+b)"
   ]
  },
  {
   "cell_type": "code",
   "execution_count": 102,
   "metadata": {
    "collapsed": false
   },
   "outputs": [
    {
     "name": "stdout",
     "output_type": "stream",
     "text": [
      "[(0, 0.71862713465838812), (3, 0.22658524039946459), (6, 0.089399302504473782), (9, 7.2756316788852136), (1, 0.11272233723151603), (4, 4.8521449798995224), (7, 0.019634971549216975), (2, 0.069306853444915606), (5, 0.19439738190120537), (8, 0.044623723975760712)]\n",
      "CPU times: user 157 ms, sys: 35.2 ms, total: 192 ms\n",
      "Wall time: 1min 25s\n"
     ]
    }
   ],
   "source": [
    "%time print get_all_scores(sampled_rdd,m).collect()"
   ]
  },
  {
   "cell_type": "code",
   "execution_count": 99,
   "metadata": {
    "collapsed": true
   },
   "outputs": [],
   "source": [
    "rdd_to_join = entropy_score(sampled_rdd,1)"
   ]
  },
  {
   "cell_type": "code",
   "execution_count": null,
   "metadata": {
    "collapsed": true
   },
   "outputs": [],
   "source": []
  }
 ],
 "metadata": {
  "kernelspec": {
   "display_name": "Python 2",
   "language": "python",
   "name": "python2"
  },
  "language_info": {
   "codemirror_mode": {
    "name": "ipython",
    "version": 2
   },
   "file_extension": ".py",
   "mimetype": "text/x-python",
   "name": "python",
   "nbconvert_exporter": "python",
   "pygments_lexer": "ipython2",
   "version": "2.7.10"
  }
 },
 "nbformat": 4,
 "nbformat_minor": 0
}
