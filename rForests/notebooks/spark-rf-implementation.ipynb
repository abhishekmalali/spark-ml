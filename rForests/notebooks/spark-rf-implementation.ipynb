{
 "cells": [
  {
   "cell_type": "code",
   "execution_count": 1,
   "metadata": {
    "collapsed": true
   },
   "outputs": [
    {
     "ename": "ValueError",
     "evalue": "Cannot run multiple SparkContexts at once; existing SparkContext(app=PySparkShell, master=local[*]) created by <module> at /Users/neilchainani/anaconda/lib/python2.7/site-packages/IPython/utils/py3compat.py:217 ",
     "output_type": "error",
     "traceback": [
      "\u001b[0;31m---------------------------------------------------------------------------\u001b[0m",
      "\u001b[0;31mValueError\u001b[0m                                Traceback (most recent call last)",
      "\u001b[0;32m<ipython-input-1-4811e42583e3>\u001b[0m in \u001b[0;36m<module>\u001b[0;34m()\u001b[0m\n\u001b[1;32m      2\u001b[0m \u001b[0mfindspark\u001b[0m\u001b[0;34m.\u001b[0m\u001b[0minit\u001b[0m\u001b[0;34m(\u001b[0m\u001b[0;34m)\u001b[0m\u001b[0;34m\u001b[0m\u001b[0m\n\u001b[1;32m      3\u001b[0m \u001b[0;32mimport\u001b[0m \u001b[0mpyspark\u001b[0m\u001b[0;34m\u001b[0m\u001b[0m\n\u001b[0;32m----> 4\u001b[0;31m \u001b[0msc\u001b[0m \u001b[0;34m=\u001b[0m \u001b[0mpyspark\u001b[0m\u001b[0;34m.\u001b[0m\u001b[0mSparkContext\u001b[0m\u001b[0;34m(\u001b[0m\u001b[0;34m)\u001b[0m\u001b[0;34m\u001b[0m\u001b[0m\n\u001b[0m",
      "\u001b[0;32m/Users/neilchainani/Documents/CSE/spark-1.5.0/python/pyspark/context.pyc\u001b[0m in \u001b[0;36m__init__\u001b[0;34m(self, master, appName, sparkHome, pyFiles, environment, batchSize, serializer, conf, gateway, jsc, profiler_cls)\u001b[0m\n\u001b[1;32m    108\u001b[0m         \"\"\"\n\u001b[1;32m    109\u001b[0m         \u001b[0mself\u001b[0m\u001b[0;34m.\u001b[0m\u001b[0m_callsite\u001b[0m \u001b[0;34m=\u001b[0m \u001b[0mfirst_spark_call\u001b[0m\u001b[0;34m(\u001b[0m\u001b[0;34m)\u001b[0m \u001b[0;32mor\u001b[0m \u001b[0mCallSite\u001b[0m\u001b[0;34m(\u001b[0m\u001b[0mNone\u001b[0m\u001b[0;34m,\u001b[0m \u001b[0mNone\u001b[0m\u001b[0;34m,\u001b[0m \u001b[0mNone\u001b[0m\u001b[0;34m)\u001b[0m\u001b[0;34m\u001b[0m\u001b[0m\n\u001b[0;32m--> 110\u001b[0;31m         \u001b[0mSparkContext\u001b[0m\u001b[0;34m.\u001b[0m\u001b[0m_ensure_initialized\u001b[0m\u001b[0;34m(\u001b[0m\u001b[0mself\u001b[0m\u001b[0;34m,\u001b[0m \u001b[0mgateway\u001b[0m\u001b[0;34m=\u001b[0m\u001b[0mgateway\u001b[0m\u001b[0;34m)\u001b[0m\u001b[0;34m\u001b[0m\u001b[0m\n\u001b[0m\u001b[1;32m    111\u001b[0m         \u001b[0;32mtry\u001b[0m\u001b[0;34m:\u001b[0m\u001b[0;34m\u001b[0m\u001b[0m\n\u001b[1;32m    112\u001b[0m             self._do_init(master, appName, sparkHome, pyFiles, environment, batchSize, serializer,\n",
      "\u001b[0;32m/Users/neilchainani/Documents/CSE/spark-1.5.0/python/pyspark/context.pyc\u001b[0m in \u001b[0;36m_ensure_initialized\u001b[0;34m(cls, instance, gateway)\u001b[0m\n\u001b[1;32m    248\u001b[0m                         \u001b[0;34m\" created by %s at %s:%s \"\u001b[0m\u001b[0;34m\u001b[0m\u001b[0m\n\u001b[1;32m    249\u001b[0m                         % (currentAppName, currentMaster,\n\u001b[0;32m--> 250\u001b[0;31m                             callsite.function, callsite.file, callsite.linenum))\n\u001b[0m\u001b[1;32m    251\u001b[0m                 \u001b[0;32melse\u001b[0m\u001b[0;34m:\u001b[0m\u001b[0;34m\u001b[0m\u001b[0m\n\u001b[1;32m    252\u001b[0m                     \u001b[0mSparkContext\u001b[0m\u001b[0;34m.\u001b[0m\u001b[0m_active_spark_context\u001b[0m \u001b[0;34m=\u001b[0m \u001b[0minstance\u001b[0m\u001b[0;34m\u001b[0m\u001b[0m\n",
      "\u001b[0;31mValueError\u001b[0m: Cannot run multiple SparkContexts at once; existing SparkContext(app=PySparkShell, master=local[*]) created by <module> at /Users/neilchainani/anaconda/lib/python2.7/site-packages/IPython/utils/py3compat.py:217 "
     ]
    }
   ],
   "source": [
    "import findspark\n",
    "findspark.init()\n",
    "import pyspark\n",
    "sc = pyspark.SparkContext()"
   ]
  },
  {
   "cell_type": "code",
   "execution_count": 3,
   "metadata": {
    "collapsed": true
   },
   "outputs": [],
   "source": [
    "txtFile=sc.textFile('../data/covtype.csv')\n",
    "#Convert it into RDD of lists \n",
    "rdd=(txtFile.map(lambda x:x.split())\n",
    "    .map(lambda x: x[0].strip(\"'\").split(\",\"))\n",
    "    .map(lambda x:[float(v) for v in x])\n",
    "    .map(lambda x: (x[-1]-1,x[0:-1])))"
   ]
  },
  {
   "cell_type": "code",
   "execution_count": 4,
   "metadata": {
    "collapsed": true
   },
   "outputs": [],
   "source": [
    "import itertools\n",
    "soil_list =[]\n",
    "for k in range(40):\n",
    "    string = 'Soil_Type_' + str(k+1)\n",
    "    soil_list.append(string)\n",
    "WA_list =[]\n",
    "for k in range(4):\n",
    "    string = 'WA_' + str(k+1)\n",
    "    WA_list.append(string)\n",
    "names = [['Elevation'], ['Aspect'], ['Slope'], ['HDHyrdo'], ['VDHydro'], ['HDRoadways'], \\\n",
    "         ['9amHills'],['NoonHills'], ['3pmHills'], ['HDFirePoints'], WA_list,\\\n",
    "         soil_list, ['Cover_Type']]\n",
    "columns = list(itertools.chain(*names))"
   ]
  },
  {
   "cell_type": "code",
   "execution_count": 5,
   "metadata": {
    "collapsed": true
   },
   "outputs": [],
   "source": [
    "import random"
   ]
  },
  {
   "cell_type": "code",
   "execution_count": 6,
   "metadata": {
    "collapsed": true
   },
   "outputs": [],
   "source": [
    "#selecting random features\n",
    "m = 5 #No of features\n",
    "indices = range(len(columns)-1)\n",
    "random.shuffle(indices)\n",
    "sampled_c = [columns[j] for j in indices[:m]]"
   ]
  },
  {
   "cell_type": "code",
   "execution_count": 7,
   "metadata": {
    "collapsed": false
   },
   "outputs": [
    {
     "name": "stdout",
     "output_type": "stream",
     "text": [
      "CPU times: user 24 µs, sys: 13 µs, total: 37 µs\n",
      "Wall time: 30 µs\n"
     ]
    }
   ],
   "source": [
    "#Code for implementing in rdd\n",
    "%time sampled_rdd = rdd.map(lambda x: (x[0],[x[1][j] for j in indices[:m]]))"
   ]
  },
  {
   "cell_type": "code",
   "execution_count": 8,
   "metadata": {
    "collapsed": true
   },
   "outputs": [],
   "source": [
    "#Imports - move later to top\n",
    "import numpy as np"
   ]
  },
  {
   "cell_type": "code",
   "execution_count": 23,
   "metadata": {
    "collapsed": true
   },
   "outputs": [],
   "source": [
    "#total counts of the data\n",
    "t_count = rdd.count()"
   ]
  },
  {
   "cell_type": "code",
   "execution_count": 87,
   "metadata": {
    "collapsed": false
   },
   "outputs": [
    {
     "name": "stdout",
     "output_type": "stream",
     "text": [
      "CPU times: user 19.9 ms, sys: 5.2 ms, total: 25.1 ms\n",
      "Wall time: 40 ms\n",
      "CPU times: user 8.84 ms, sys: 2.15 ms, total: 11 ms\n",
      "Wall time: 8 s\n"
     ]
    }
   ],
   "source": [
    "##Implementing the ID3 and testing the Entropy\n",
    "test_index = 0\n",
    "%time entrop_score = entropy_score(sampled_rdd,test_index)\n",
    "%time entrop_score = entrop_score.take(1)[0][1]"
   ]
  },
  {
   "cell_type": "code",
   "execution_count": 174,
   "metadata": {
    "collapsed": false
   },
   "outputs": [],
   "source": [
    "# Defined entropy as 1- sum(percentages squared)\n",
    "def entropy_score(sampled_rdd,index):\n",
    "    c=sampled_rdd.count()\n",
    "    ent = sampled_rdd.map(lambda x:x[1][index]).map(lambda x:(x,1.0)).reduceByKey(lambda a,b:a+b)\\\n",
    "            .map(lambda x:(x[1]/c)*(x[1]/c)).reduce(lambda a,b:a+b)\n",
    "    cats=sampled_rdd.map(lambda x:x[1][index]).distinct().collect()\n",
    "    return 1-ent,cats"
   ]
  },
  {
   "cell_type": "code",
   "execution_count": 179,
   "metadata": {
    "collapsed": true
   },
   "outputs": [],
   "source": [
    "def best_attr(sampled_rdd,m):\n",
    "    best_a=0\n",
    "    best_s=100\n",
    "    categories=[]\n",
    "    for i in range(m):\n",
    "        s,c=entropy_score(sampled_rdd,i)\n",
    "        print i,s,c\n",
    "        if s<best_s:\n",
    "            best_a=i\n",
    "            best_s=s\n",
    "            categories=c\n",
    "    return best_a, categories"
   ]
  },
  {
   "cell_type": "code",
   "execution_count": 71,
   "metadata": {
    "collapsed": false
   },
   "outputs": [
    {
     "name": "stdout",
     "output_type": "stream",
     "text": [
      "CPU times: user 32.7 ms, sys: 10 ms, total: 42.7 ms\n",
      "Wall time: 35.1 s\n"
     ]
    },
    {
     "data": {
      "text/plain": [
       "0.000361372999140519"
      ]
     },
     "execution_count": 71,
     "metadata": {},
     "output_type": "execute_result"
    }
   ],
   "source": [
    "%time entropy_score(sampled_rdd,1)"
   ]
  },
  {
   "cell_type": "code",
   "execution_count": 29,
   "metadata": {
    "collapsed": false
   },
   "outputs": [
    {
     "name": "stdout",
     "output_type": "stream",
     "text": [
      "CPU times: user 14.6 ms, sys: 3.09 ms, total: 17.7 ms\n",
      "Wall time: 31.9 ms\n"
     ]
    }
   ],
   "source": [
    "%time new_rdd = sampled_rdd.map(lambda x:x[1][test_index]).map(lambda x:(x,1.0)).reduceByKey(lambda a,b:a+b)\\\n",
    "            .map(lambda x:(x[0],(-x[1]/t_count)*(np.log2(x[1]/t_count))))\\\n",
    "            .map(lambda x:(1,x[1])).reduceByKey(lambda a,b:a+b)"
   ]
  },
  {
   "cell_type": "code",
   "execution_count": 30,
   "metadata": {
    "collapsed": false
   },
   "outputs": [
    {
     "name": "stdout",
     "output_type": "stream",
     "text": [
      "[(0, 0.16207143284308864), (3, 0.027547699424360673), (6, 0.0025077543955656055), (9, 0.0095463517593474476), (1, 0.14900598458760123), (4, 6.5981678852644112), (7, 11.375626917177499), (2, 0.71862713465838812), (5, 0.031695711359855931), (8, 7.2756316788852136)]\n",
      "CPU times: user 159 ms, sys: 36 ms, total: 195 ms\n",
      "Wall time: 1min 31s\n"
     ]
    }
   ],
   "source": [
    "%time print get_all_scores(sampled_rdd,m).collect()"
   ]
  },
  {
   "cell_type": "code",
   "execution_count": 88,
   "metadata": {
    "collapsed": false
   },
   "outputs": [
    {
     "name": "stdout",
     "output_type": "stream",
     "text": [
      "\n"
     ]
    }
   ],
   "source": [
    "def infoGain(sampled_rdd, attr=0, target_attr=0):\n",
    "    subset_entropy = 0\n",
    "    val_freq = sampled_rdd.map(lambda x:x[1][attr]).map(lambda x:(x,1.0)).reduceByKey(lambda a,b:a+b)\\\n",
    "            .map(lambda x:(x[0],x[1]/t_count))\n",
    "    val_freq = val_freq.collectAsMap()\n",
    "    classes = sampled_rdd.map(lambda x: x[1][attr]).distinct().collect()\n",
    "    print 'numClasses:',len(classes)\n",
    "    for cls in classes:\n",
    "        sub_rdd=sampled_rdd.filter(lambda x: x[1][attr]==cls)\n",
    "        try:\n",
    "            if sub_rdd.isEmpty() == True:\n",
    "                continue\n",
    "        except:\n",
    "            print \"Error in calculation. Moving on\"\n",
    "            continue\n",
    "        subs_entropy = entropy_score(sub_rdd,target_attr)\n",
    "        entropy = subs_entropy.collect()\n",
    "        entropy = entropy[0][1]\n",
    "        subset_entropy += entropy*val_freq[cls]\n",
    "    return entropy_score(sampled_rdd,target_attr).collect()[0][1] - subset_entropy"
   ]
  },
  {
   "cell_type": "code",
   "execution_count": 154,
   "metadata": {
    "collapsed": true
   },
   "outputs": [],
   "source": [
    "from collections import Counter\n",
    "import numpy as np\n",
    "def IG(l):\n",
    "    length=len(l)\n",
    "    c=Counter()\n",
    "    for v in l:\n",
    "        c[v] += 1.0/length\n",
    "    return 1-sum(np.multiply(c.values(),c.values()))"
   ]
  },
  {
   "cell_type": "code",
   "execution_count": 155,
   "metadata": {
    "collapsed": false
   },
   "outputs": [],
   "source": [
    "def infoGain2(sampled_rdd,attr=0, target_attr=0):\n",
    "    c=sampled_rdd.count()\n",
    "    pair_rdd=sampled_rdd.map(lambda x: (x[1][attr],x[1][target_attr]))\n",
    "    list_rdd=pair_rdd.groupByKey().mapValues(lambda x: tuple(x)).map(lambda x: (x[0],x[1], len(x[1])/float(c)))\n",
    "    gains_rdd=list_rdd.map(lambda x: (x[0],IG(x[1]),x[2]))\n",
    "    return gains_rdd.map(lambda x: x[1]*x[2]).reduce(lambda a,b:a+b)"
   ]
  },
  {
   "cell_type": "code",
   "execution_count": 148,
   "metadata": {
    "collapsed": false
   },
   "outputs": [
    {
     "name": "stdout",
     "output_type": "stream",
     "text": [
      "0.00887232404524\n",
      "CPU times: user 62.9 ms, sys: 14.8 ms, total: 77.7 ms\n",
      "Wall time: 56.4 s\n"
     ]
    },
    {
     "data": {
      "text/plain": [
       "-0.022489466281998743"
      ]
     },
     "execution_count": 148,
     "metadata": {},
     "output_type": "execute_result"
    }
   ],
   "source": [
    "%time infoGain2(sampled_rdd, attr=0, target_attr=2)"
   ]
  },
  {
   "cell_type": "code",
   "execution_count": 41,
   "metadata": {
    "collapsed": false
   },
   "outputs": [
    {
     "name": "stdout",
     "output_type": "stream",
     "text": [
      "{0.0: 0.9762380122957873, 1.0: 0.02376198770421265}\n",
      "0.530139880469\n",
      "0.544515664964\n",
      "CPU times: user 97.2 ms, sys: 22.2 ms, total: 119 ms\n",
      "Wall time: 44.1 s\n"
     ]
    },
    {
     "data": {
      "text/plain": [
       "-0.39550968037623996"
      ]
     },
     "execution_count": 41,
     "metadata": {},
     "output_type": "execute_result"
    }
   ],
   "source": [
    "%time infoGain(sampled_rdd,attr=0,target_attr=1)"
   ]
  },
  {
   "cell_type": "code",
   "execution_count": 162,
   "metadata": {
    "collapsed": false
   },
   "outputs": [],
   "source": [
    "def choose_attribute(sampled_rdd, attribute, target_attrs):\n",
    "    best_gain = 100.0\n",
    "    best_attr = None\n",
    "    for target in target_attrs:\n",
    "        if target != attribute:\n",
    "            gain = infoGain2(sampled_rdd,attribute, target)\n",
    "            print target,gain\n",
    "            if gain <= best_gain:\n",
    "                best_gain = gain\n",
    "                best_attr = target\n",
    "    return best_gain,best_attr"
   ]
  },
  {
   "cell_type": "code",
   "execution_count": 76,
   "metadata": {
    "collapsed": false
   },
   "outputs": [
    {
     "name": "stdout",
     "output_type": "stream",
     "text": [
      "0 1.34301799802e-11\n",
      "1 0.00887231683732\n",
      "2 0.00887168096634\n",
      "3 0.00886996078236\n",
      "4 0.00887212864823\n",
      "CPU times: user 177 ms, sys: 40.9 ms, total: 218 ms\n",
      "Wall time: 2min 5s\n"
     ]
    },
    {
     "data": {
      "text/plain": [
       "(0.0088723168373202911, 1)"
      ]
     },
     "execution_count": 76,
     "metadata": {},
     "output_type": "execute_result"
    }
   ],
   "source": [
    "%time choose_attribute(sampled_rdd,range(m),0)"
   ]
  },
  {
   "cell_type": "code",
   "execution_count": 139,
   "metadata": {
    "collapsed": false
   },
   "outputs": [],
   "source": [
    "sample = sc.parallelize([       (0,[1,1,0,1]),\n",
    "         (0,[0,0,1,1]),\n",
    "         (0,[1,1,0,2]),\n",
    "         (0,[1,1,0,1]),\n",
    "         (0,[0,0,1,0]),\n",
    "         (0,[1,0,2,1]),\n",
    "         (0,[2,0,1,1]),\n",
    "         (0,[1,2,1,1])])"
   ]
  },
  {
   "cell_type": "code",
   "execution_count": 164,
   "metadata": {
    "collapsed": false
   },
   "outputs": [
    {
     "name": "stdout",
     "output_type": "stream",
     "text": [
      "0 0.3125\n",
      "1 0.1875\n",
      "3 0.354166666667\n"
     ]
    },
    {
     "data": {
      "text/plain": [
       "(0.1875, 1)"
      ]
     },
     "execution_count": 164,
     "metadata": {},
     "output_type": "execute_result"
    }
   ],
   "source": [
    "choose_attribute(sample,2,range(4))"
   ]
  },
  {
   "cell_type": "code",
   "execution_count": 183,
   "metadata": {
    "collapsed": false
   },
   "outputs": [
    {
     "name": "stdout",
     "output_type": "stream",
     "text": [
      "0 0.53125 [0, 1, 2]\n",
      "1 0.59375 [0, 1, 2]\n",
      "2 0.59375 [0, 1, 2]\n",
      "3 0.40625 [0, 1, 2]\n"
     ]
    },
    {
     "data": {
      "text/plain": [
       "(3, [0, 1, 2])"
      ]
     },
     "execution_count": 183,
     "metadata": {},
     "output_type": "execute_result"
    }
   ],
   "source": [
    "# get best starting attribute\n",
    "\n",
    "start_split,cats=best_attr(sample,4)\n",
    "for cat in cats:\n",
    "    recu"
   ]
  },
  {
   "cell_type": "code",
   "execution_count": 185,
   "metadata": {
    "collapsed": false
   },
   "outputs": [
    {
     "name": "stdout",
     "output_type": "stream",
     "text": [
      "[(0, [0, 0, 1, 0])]\n",
      "[(0, [1, 1, 0, 1]), (0, [0, 0, 1, 1]), (0, [1, 1, 0, 1]), (0, [1, 0, 2, 1]), (0, [2, 0, 1, 1]), (0, [1, 2, 1, 1])]\n",
      "[(0, [1, 1, 0, 2])]\n"
     ]
    }
   ],
   "source": [
    "##\n",
    "#separate branches\n",
    "\n",
    "# send subtrees to get attributes, recursively\n",
    "# stop tree once you reach a point of 0 info gain\n",
    "def recursive(sub_rdd,attr,target_attrs):\n",
    "    best_attr, cats=choose_attribute(sub_rdd,attr,target_attrs)\n",
    "    for cat in cats:\n",
    "        target_attrs=#create a list of attributes you haven't checked yet\n",
    "        b,c=recursive(sub_rdd.filter(lambda x:x[1][best_attr]==cat),best_attr,target_attrs)\n",
    "        if b==0: # no new information\n",
    "            return c\n",
    "\n"
   ]
  },
  {
   "cell_type": "markdown",
   "metadata": {},
   "source": [
    "The first cut is calculated with best_attr. Subsequent cuts can be calucluated with choose_attribute."
   ]
  },
  {
   "cell_type": "code",
   "execution_count": null,
   "metadata": {
    "collapsed": true
   },
   "outputs": [],
   "source": []
  }
 ],
 "metadata": {
  "kernelspec": {
   "display_name": "Python 2",
   "language": "python",
   "name": "python2"
  }
 },
 "nbformat": 4,
 "nbformat_minor": 0
}
