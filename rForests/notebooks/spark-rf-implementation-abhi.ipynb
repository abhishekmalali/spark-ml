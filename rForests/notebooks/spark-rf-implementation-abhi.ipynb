{
 "cells": [
  {
   "cell_type": "code",
   "execution_count": 1,
   "metadata": {
    "collapsed": true
   },
   "outputs": [],
   "source": [
    "import findspark\n",
    "findspark.init()\n",
    "import pyspark\n",
    "sc = pyspark.SparkContext()"
   ]
  },
  {
   "cell_type": "markdown",
   "metadata": {},
   "source": [
    "#### Loading the test data "
   ]
  },
  {
   "cell_type": "code",
   "execution_count": 17,
   "metadata": {
    "collapsed": true
   },
   "outputs": [],
   "source": [
    "sample = sc.parallelize([(1,[1,1,0,1]),\n",
    "         (0,[0,0,1,1]),\n",
    "         (1,[1,1,0,2]),\n",
    "         (0,[1,1,0,1]),\n",
    "         (0,[0,0,1,0]),\n",
    "         (2,[1,0,2,1]),\n",
    "         (2,[2,0,1,1]),\n",
    "         (2,[1,2,1,1]),\n",
    "         (0,[0,1,1,1]),\n",
    "         (1,[1,2,0,2]),\n",
    "         (0,[1,1,1,1]),\n",
    "         (0,[0,1,1,0]),\n",
    "         (2,[2,2,2,1]),\n",
    "         (2,[2,1,1,1]),\n",
    "         (2,[2,2,1,1])])"
   ]
  },
  {
   "cell_type": "code",
   "execution_count": 134,
   "metadata": {
    "collapsed": false
   },
   "outputs": [],
   "source": [
    "sample2 = sc.textFile('../data/balance-scale.csv')\n",
    "rdd2=sample2.map(lambda x:x.split()).map(lambda x: x[0].strip(\"'\").split(\",\"))\\\n",
    "            .map(lambda x:[v for v in x])\\\n",
    "            .map(lambda x: (str(x[0]),[int(k) for k in x[1:]]))\n",
    "columns2 = ['Left-Weight','Left-Distance','Right-Weight','Right-Distance']"
   ]
  },
  {
   "cell_type": "code",
   "execution_count": 135,
   "metadata": {
    "collapsed": false
   },
   "outputs": [
    {
     "data": {
      "text/plain": [
       "[('B', [1, 1, 1, 1]), ('R', [1, 1, 1, 2])]"
      ]
     },
     "execution_count": 135,
     "metadata": {},
     "output_type": "execute_result"
    }
   ],
   "source": [
    "rdd2.take(2)"
   ]
  },
  {
   "cell_type": "markdown",
   "metadata": {},
   "source": [
    "#### Loading Actual data"
   ]
  },
  {
   "cell_type": "code",
   "execution_count": 19,
   "metadata": {
    "collapsed": true
   },
   "outputs": [],
   "source": [
    "txtFile=sc.textFile('../data/covtype.csv')\n",
    "#Convert it into RDD of lists \n",
    "rdd=(txtFile.map(lambda x:x.split())\n",
    "    .map(lambda x: x[0].strip(\"'\").split(\",\"))\n",
    "    .map(lambda x:[float(v) for v in x])\n",
    "    .map(lambda x: (x[-1]-1,x[0:-1])))"
   ]
  },
  {
   "cell_type": "code",
   "execution_count": 22,
   "metadata": {
    "collapsed": true
   },
   "outputs": [],
   "source": [
    "import itertools\n",
    "soil_list =[]\n",
    "for k in range(40):\n",
    "    string = 'Soil_Type_' + str(k+1)\n",
    "    soil_list.append(string)\n",
    "WA_list =[]\n",
    "for k in range(4):\n",
    "    string = 'WA_' + str(k+1)\n",
    "    WA_list.append(string)\n",
    "names = [['Elevation'], ['Aspect'], ['Slope'], ['HDHyrdo'], ['VDHydro'], ['HDRoadways'], \\\n",
    "         ['9amHills'],['NoonHills'], ['3pmHills'], ['HDFirePoints'], WA_list,\\\n",
    "         soil_list, ['Cover_Type']]\n",
    "columns = list(itertools.chain(*names))"
   ]
  },
  {
   "cell_type": "code",
   "execution_count": 40,
   "metadata": {
    "collapsed": false
   },
   "outputs": [
    {
     "name": "stdout",
     "output_type": "stream",
     "text": [
      "[31, 38, 24, 30, 23]\n"
     ]
    }
   ],
   "source": [
    "import random\n",
    "#selecting random features\n",
    "m = 5 #No of features\n",
    "indices = range(len(columns)-1)\n",
    "random.shuffle(indices)\n",
    "print indices[:m]"
   ]
  },
  {
   "cell_type": "code",
   "execution_count": 41,
   "metadata": {
    "collapsed": true
   },
   "outputs": [],
   "source": [
    "sampled_rdd = rdd.map(lambda x: (x[0],[x[1][j] for j in indices[:m]]))"
   ]
  },
  {
   "cell_type": "markdown",
   "metadata": {},
   "source": [
    "#### InfoGain function"
   ]
  },
  {
   "cell_type": "code",
   "execution_count": 4,
   "metadata": {
    "collapsed": true
   },
   "outputs": [],
   "source": [
    "from collections import Counter\n",
    "import numpy as np\n",
    "def IG(l):\n",
    "    length=len(l)\n",
    "    c=Counter()\n",
    "    for v in l:\n",
    "        c[v] += 1.0/length\n",
    "    return 1-sum(np.multiply(c.values(),c.values()))"
   ]
  },
  {
   "cell_type": "code",
   "execution_count": 5,
   "metadata": {
    "collapsed": true
   },
   "outputs": [],
   "source": [
    "def infoGain2(sampled_rdd,attr=0):\n",
    "    c=sampled_rdd.count()\n",
    "    pair_rdd=sampled_rdd.map(lambda x: (x[1][attr],x[0]))\n",
    "    list_rdd=pair_rdd.groupByKey().mapValues(lambda x: tuple(x)).map(lambda x: (x[0],x[1], len(x[1])/float(c)))\n",
    "    gains_rdd=list_rdd.map(lambda x: (x[0],IG(x[1]),x[2]))\n",
    "    return gains_rdd.map(lambda x: x[1]*x[2]).reduce(lambda a,b:a+b)"
   ]
  },
  {
   "cell_type": "code",
   "execution_count": 76,
   "metadata": {
    "collapsed": true
   },
   "outputs": [],
   "source": [
    "def choose_attribute(sampled_rdd, attributes):\n",
    "    best_gain = float(\"inf\")\n",
    "    best_attr = None\n",
    "    for att in attributes:\n",
    "        gain = infoGain2(sampled_rdd,att)\n",
    "        #print att,gain\n",
    "        if gain <= best_gain:\n",
    "            best_gain = gain\n",
    "            best_attr = att\n",
    "    cats=sampled_rdd.map(lambda x:x[1][best_attr]).distinct().collect()\n",
    "    return best_attr,cats"
   ]
  },
  {
   "cell_type": "code",
   "execution_count": 77,
   "metadata": {
    "collapsed": true
   },
   "outputs": [],
   "source": [
    "#Function returns most frequent value in response variable\n",
    "def most_frequent(data):\n",
    "    highest_freq = 0\n",
    "    most_freq = None\n",
    "    vals = data.map(lambda x:x[0]).distinct().collect()\n",
    "    for val in vals:\n",
    "        freq = data.filter(lambda x:x[0] == val)\\\n",
    "                    .map(lambda x:x[0]).count()\n",
    "        if freq > highest_freq:\n",
    "            most_freq = val\n",
    "            highest_freq = freq\n",
    "    return most_freq"
   ]
  },
  {
   "cell_type": "code",
   "execution_count": 118,
   "metadata": {
    "collapsed": true
   },
   "outputs": [],
   "source": [
    "import copy\n",
    "def createDecisionTree(sub_rdd,attributes,columns):\n",
    "    if len(attributes) <= 0:\n",
    "        return most_frequent(sub_rdd)\n",
    "    elif sub_rdd.map(lambda x:x[0]).distinct().count() == 1:\n",
    "        return sub_rdd.map(lambda x:x[0]).distinct().collect()[0][0]\n",
    "    else:\n",
    "        bestAttr,vals = choose_attribute(sub_rdd,attributes)\n",
    "        attributes.remove(bestAttr)\n",
    "        #print bestAttr,vals\n",
    "        tree = {columns[bestAttr]:{}}\n",
    "        for val in vals:\n",
    "            new_rdd = sub_rdd.filter(lambda x:x[1][bestAttr] == val)\\\n",
    "            .map(lambda x:(x[0],x[1]))\n",
    "            #print val,bestAttr,attributes\n",
    "            new_attributes = copy.deepcopy(attributes)\n",
    "            subtree = createDecisionTree(new_rdd,new_attributes,columns)\n",
    "            tree[columns[bestAttr]][val] = subtree\n",
    "    return tree"
   ]
  },
  {
   "cell_type": "code",
   "execution_count": 126,
   "metadata": {
    "collapsed": false
   },
   "outputs": [],
   "source": [
    "tree = createDecisionTree(rdd2,range(len(columns2)),columns2)"
   ]
  },
  {
   "cell_type": "code",
   "execution_count": 127,
   "metadata": {
    "collapsed": false
   },
   "outputs": [
    {
     "data": {
      "text/plain": [
       "{'Right-Distance': {'1': {'Left-Distance': {'1': {'Right-Weight': {'1': {'Left-Weight': {'1': 'B',\n",
       "        '2': 'L',\n",
       "        '3': 'L',\n",
       "        '4': 'L',\n",
       "        '5': 'L'}},\n",
       "      '2': {'Left-Weight': {'1': 'R', '2': 'B', '3': 'L', '4': 'L', '5': 'L'}},\n",
       "      '3': {'Left-Weight': {'1': 'R', '2': 'R', '3': 'B', '4': 'L', '5': 'L'}},\n",
       "      '4': {'Left-Weight': {'1': 'R', '2': 'R', '3': 'R', '4': 'B', '5': 'L'}},\n",
       "      '5': {'Left-Weight': {'1': 'R',\n",
       "        '2': 'R',\n",
       "        '3': 'R',\n",
       "        '4': 'R',\n",
       "        '5': 'B'}}}},\n",
       "    '2': {'Left-Weight': {'1': {'Right-Weight': {'1': 'L',\n",
       "        '2': 'B',\n",
       "        '3': 'R',\n",
       "        '4': 'R',\n",
       "        '5': 'R'}},\n",
       "      '2': {'Right-Weight': {'1': 'L',\n",
       "        '2': 'L',\n",
       "        '3': 'L',\n",
       "        '4': 'B',\n",
       "        '5': 'R'}},\n",
       "      '3': 'L',\n",
       "      '4': 'L',\n",
       "      '5': 'L'}},\n",
       "    '3': {'Left-Weight': {'1': {'Right-Weight': {'1': 'L',\n",
       "        '2': 'L',\n",
       "        '3': 'B',\n",
       "        '4': 'R',\n",
       "        '5': 'R'}},\n",
       "      '2': 'L',\n",
       "      '3': 'L',\n",
       "      '4': 'L',\n",
       "      '5': 'L'}},\n",
       "    '4': {'Left-Weight': {'1': {'Right-Weight': {'1': 'L',\n",
       "        '2': 'L',\n",
       "        '3': 'L',\n",
       "        '4': 'B',\n",
       "        '5': 'R'}},\n",
       "      '2': 'L',\n",
       "      '3': 'L',\n",
       "      '4': 'L',\n",
       "      '5': 'L'}},\n",
       "    '5': {'Right-Weight': {'1': 'L',\n",
       "      '2': 'L',\n",
       "      '3': 'L',\n",
       "      '4': 'L',\n",
       "      '5': {'Left-Weight': {'1': 'B',\n",
       "        '2': 'L',\n",
       "        '3': 'L',\n",
       "        '4': 'L',\n",
       "        '5': 'L'}}}}}},\n",
       "  '2': {'Left-Distance': {'1': {'Right-Weight': {'1': {'Left-Weight': {'1': 'R',\n",
       "        '2': 'B',\n",
       "        '3': 'L',\n",
       "        '4': 'L',\n",
       "        '5': 'L'}},\n",
       "      '2': {'Left-Weight': {'1': 'R', '2': 'R', '3': 'R', '4': 'B', '5': 'L'}},\n",
       "      '3': 'R',\n",
       "      '4': 'R',\n",
       "      '5': 'R'}},\n",
       "    '2': {'Right-Weight': {'1': {'Left-Weight': {'1': 'B',\n",
       "        '2': 'L',\n",
       "        '3': 'L',\n",
       "        '4': 'L',\n",
       "        '5': 'L'}},\n",
       "      '2': {'Left-Weight': {'1': 'R', '2': 'B', '3': 'L', '4': 'L', '5': 'L'}},\n",
       "      '3': {'Left-Weight': {'1': 'R', '2': 'R', '3': 'B', '4': 'L', '5': 'L'}},\n",
       "      '4': {'Left-Weight': {'1': 'R', '2': 'R', '3': 'R', '4': 'B', '5': 'L'}},\n",
       "      '5': {'Left-Weight': {'1': 'R',\n",
       "        '2': 'R',\n",
       "        '3': 'R',\n",
       "        '4': 'R',\n",
       "        '5': 'B'}}}},\n",
       "    '3': {'Left-Weight': {'1': {'Right-Weight': {'1': 'L',\n",
       "        '2': 'R',\n",
       "        '3': 'R',\n",
       "        '4': 'R',\n",
       "        '5': 'R'}},\n",
       "      '2': {'Right-Weight': {'1': 'L',\n",
       "        '2': 'L',\n",
       "        '3': 'B',\n",
       "        '4': 'R',\n",
       "        '5': 'R'}},\n",
       "      '3': {'Right-Weight': {'1': 'L',\n",
       "        '2': 'L',\n",
       "        '3': 'L',\n",
       "        '4': 'L',\n",
       "        '5': 'R'}},\n",
       "      '4': 'L',\n",
       "      '5': 'L'}},\n",
       "    '4': {'Left-Weight': {'1': {'Right-Weight': {'1': 'L',\n",
       "        '2': 'B',\n",
       "        '3': 'R',\n",
       "        '4': 'R',\n",
       "        '5': 'R'}},\n",
       "      '2': {'Right-Weight': {'1': 'L',\n",
       "        '2': 'L',\n",
       "        '3': 'L',\n",
       "        '4': 'B',\n",
       "        '5': 'R'}},\n",
       "      '3': 'L',\n",
       "      '4': 'L',\n",
       "      '5': 'L'}},\n",
       "    '5': {'Left-Weight': {'1': {'Right-Weight': {'1': 'L',\n",
       "        '2': 'L',\n",
       "        '3': 'R',\n",
       "        '4': 'R',\n",
       "        '5': 'R'}},\n",
       "      '2': {'Right-Weight': {'1': 'L',\n",
       "        '2': 'L',\n",
       "        '3': 'L',\n",
       "        '4': 'L',\n",
       "        '5': 'B'}},\n",
       "      '3': 'L',\n",
       "      '4': 'L',\n",
       "      '5': 'L'}}}},\n",
       "  '3': {'Left-Distance': {'1': {'Right-Weight': {'1': {'Left-Weight': {'1': 'R',\n",
       "        '2': 'R',\n",
       "        '3': 'B',\n",
       "        '4': 'L',\n",
       "        '5': 'L'}},\n",
       "      '2': 'R',\n",
       "      '3': 'R',\n",
       "      '4': 'R',\n",
       "      '5': 'R'}},\n",
       "    '2': {'Right-Weight': {'1': {'Left-Weight': {'1': 'R',\n",
       "        '2': 'L',\n",
       "        '3': 'L',\n",
       "        '4': 'L',\n",
       "        '5': 'L'}},\n",
       "      '2': {'Left-Weight': {'1': 'R', '2': 'R', '3': 'B', '4': 'L', '5': 'L'}},\n",
       "      '3': {'Left-Weight': {'1': 'R', '2': 'R', '3': 'R', '4': 'R', '5': 'L'}},\n",
       "      '4': 'R',\n",
       "      '5': 'R'}},\n",
       "    '3': {'Right-Weight': {'1': {'Left-Weight': {'1': 'B',\n",
       "        '2': 'L',\n",
       "        '3': 'L',\n",
       "        '4': 'L',\n",
       "        '5': 'L'}},\n",
       "      '2': {'Left-Weight': {'1': 'R', '2': 'B', '3': 'L', '4': 'L', '5': 'L'}},\n",
       "      '3': {'Left-Weight': {'1': 'R', '2': 'R', '3': 'B', '4': 'L', '5': 'L'}},\n",
       "      '4': {'Left-Weight': {'1': 'R', '2': 'R', '3': 'R', '4': 'B', '5': 'L'}},\n",
       "      '5': {'Left-Weight': {'1': 'R',\n",
       "        '2': 'R',\n",
       "        '3': 'R',\n",
       "        '4': 'R',\n",
       "        '5': 'B'}}}},\n",
       "    '4': {'Left-Weight': {'1': {'Right-Weight': {'1': 'L',\n",
       "        '2': 'R',\n",
       "        '3': 'R',\n",
       "        '4': 'R',\n",
       "        '5': 'R'}},\n",
       "      '2': {'Right-Weight': {'1': 'L',\n",
       "        '2': 'L',\n",
       "        '3': 'R',\n",
       "        '4': 'R',\n",
       "        '5': 'R'}},\n",
       "      '3': {'Right-Weight': {'1': 'L',\n",
       "        '2': 'L',\n",
       "        '3': 'L',\n",
       "        '4': 'B',\n",
       "        '5': 'R'}},\n",
       "      '4': 'L',\n",
       "      '5': 'L'}},\n",
       "    '5': {'Left-Weight': {'1': {'Right-Weight': {'1': 'L',\n",
       "        '2': 'R',\n",
       "        '3': 'R',\n",
       "        '4': 'R',\n",
       "        '5': 'R'}},\n",
       "      '2': {'Right-Weight': {'1': 'L',\n",
       "        '2': 'L',\n",
       "        '3': 'L',\n",
       "        '4': 'R',\n",
       "        '5': 'R'}},\n",
       "      '3': {'Right-Weight': {'1': 'L',\n",
       "        '2': 'L',\n",
       "        '3': 'L',\n",
       "        '4': 'L',\n",
       "        '5': 'B'}},\n",
       "      '4': 'L',\n",
       "      '5': 'L'}}}},\n",
       "  '4': {'Right-Weight': {'1': {'Left-Distance': {'1': {'Left-Weight': {'1': 'R',\n",
       "        '2': 'R',\n",
       "        '3': 'R',\n",
       "        '4': 'B',\n",
       "        '5': 'L'}},\n",
       "      '2': {'Left-Weight': {'1': 'R', '2': 'B', '3': 'L', '4': 'L', '5': 'L'}},\n",
       "      '3': {'Left-Weight': {'1': 'R', '2': 'L', '3': 'L', '4': 'L', '5': 'L'}},\n",
       "      '4': {'Left-Weight': {'1': 'B', '2': 'L', '3': 'L', '4': 'L', '5': 'L'}},\n",
       "      '5': 'L'}},\n",
       "    '2': {'Left-Distance': {'1': 'R',\n",
       "      '2': {'Left-Weight': {'1': 'R', '2': 'R', '3': 'R', '4': 'B', '5': 'L'}},\n",
       "      '3': {'Left-Weight': {'1': 'R', '2': 'R', '3': 'L', '4': 'L', '5': 'L'}},\n",
       "      '4': {'Left-Weight': {'1': 'R', '2': 'B', '3': 'L', '4': 'L', '5': 'L'}},\n",
       "      '5': {'Left-Weight': {'1': 'R',\n",
       "        '2': 'L',\n",
       "        '3': 'L',\n",
       "        '4': 'L',\n",
       "        '5': 'L'}}}},\n",
       "    '3': {'Left-Distance': {'1': 'R',\n",
       "      '2': 'R',\n",
       "      '3': {'Left-Weight': {'1': 'R', '2': 'R', '3': 'R', '4': 'B', '5': 'L'}},\n",
       "      '4': {'Left-Weight': {'1': 'R', '2': 'R', '3': 'B', '4': 'L', '5': 'L'}},\n",
       "      '5': {'Left-Weight': {'1': 'R',\n",
       "        '2': 'R',\n",
       "        '3': 'L',\n",
       "        '4': 'L',\n",
       "        '5': 'L'}}}},\n",
       "    '4': {'Left-Distance': {'1': 'R',\n",
       "      '2': 'R',\n",
       "      '3': 'R',\n",
       "      '4': {'Left-Weight': {'1': 'R', '2': 'R', '3': 'R', '4': 'B', '5': 'L'}},\n",
       "      '5': {'Left-Weight': {'1': 'R',\n",
       "        '2': 'R',\n",
       "        '3': 'R',\n",
       "        '4': 'L',\n",
       "        '5': 'L'}}}},\n",
       "    '5': {'Left-Distance': {'1': 'R',\n",
       "      '2': 'R',\n",
       "      '3': 'R',\n",
       "      '4': {'Left-Weight': {'1': 'R', '2': 'R', '3': 'R', '4': 'R', '5': 'B'}},\n",
       "      '5': {'Left-Weight': {'1': 'R',\n",
       "        '2': 'R',\n",
       "        '3': 'R',\n",
       "        '4': 'B',\n",
       "        '5': 'L'}}}}}},\n",
       "  '5': {'Right-Weight': {'1': {'Left-Distance': {'1': {'Left-Weight': {'1': 'R',\n",
       "        '2': 'R',\n",
       "        '3': 'R',\n",
       "        '4': 'R',\n",
       "        '5': 'B'}},\n",
       "      '2': {'Left-Weight': {'1': 'R', '2': 'R', '3': 'L', '4': 'L', '5': 'L'}},\n",
       "      '3': {'Left-Weight': {'1': 'R', '2': 'L', '3': 'L', '4': 'L', '5': 'L'}},\n",
       "      '4': {'Left-Weight': {'1': 'R', '2': 'L', '3': 'L', '4': 'L', '5': 'L'}},\n",
       "      '5': {'Left-Weight': {'1': 'B',\n",
       "        '2': 'L',\n",
       "        '3': 'L',\n",
       "        '4': 'L',\n",
       "        '5': 'L'}}}},\n",
       "    '2': {'Left-Distance': {'1': 'R',\n",
       "      '2': {'Left-Weight': {'1': 'R', '2': 'R', '3': 'R', '4': 'R', '5': 'B'}},\n",
       "      '3': {'Left-Weight': {'1': 'R', '2': 'R', '3': 'R', '4': 'L', '5': 'L'}},\n",
       "      '4': {'Left-Weight': {'1': 'R', '2': 'R', '3': 'L', '4': 'L', '5': 'L'}},\n",
       "      '5': {'Left-Weight': {'1': 'R',\n",
       "        '2': 'B',\n",
       "        '3': 'L',\n",
       "        '4': 'L',\n",
       "        '5': 'L'}}}},\n",
       "    '3': {'Left-Distance': {'1': 'R',\n",
       "      '2': 'R',\n",
       "      '3': {'Left-Weight': {'1': 'R', '2': 'R', '3': 'R', '4': 'R', '5': 'B'}},\n",
       "      '4': {'Left-Weight': {'1': 'R', '2': 'R', '3': 'R', '4': 'L', '5': 'L'}},\n",
       "      '5': {'Left-Weight': {'1': 'R',\n",
       "        '2': 'R',\n",
       "        '3': 'B',\n",
       "        '4': 'L',\n",
       "        '5': 'L'}}}},\n",
       "    '4': {'Left-Distance': {'1': 'R',\n",
       "      '2': 'R',\n",
       "      '3': 'R',\n",
       "      '4': {'Left-Weight': {'1': 'R', '2': 'R', '3': 'R', '4': 'R', '5': 'B'}},\n",
       "      '5': {'Left-Weight': {'1': 'R',\n",
       "        '2': 'R',\n",
       "        '3': 'R',\n",
       "        '4': 'B',\n",
       "        '5': 'L'}}}},\n",
       "    '5': {'Left-Distance': {'1': 'R',\n",
       "      '2': 'R',\n",
       "      '3': 'R',\n",
       "      '4': 'R',\n",
       "      '5': {'Left-Weight': {'1': 'R',\n",
       "        '2': 'R',\n",
       "        '3': 'R',\n",
       "        '4': 'R',\n",
       "        '5': 'B'}}}}}}}}"
      ]
     },
     "execution_count": 127,
     "metadata": {},
     "output_type": "execute_result"
    }
   ],
   "source": [
    "tree"
   ]
  },
  {
   "cell_type": "code",
   "execution_count": 128,
   "metadata": {
    "collapsed": true
   },
   "outputs": [],
   "source": [
    "#Function for testing a tree on a set of data\n",
    "def tree_test(data,columns,tree):\n",
    "    #data will be the list stored in the second half of the tuple\n",
    "    #columns contains the name of columns for referencing the tree\n",
    "    if type(tree) == type(\"string\"):\n",
    "        return tree\n",
    "    else:\n",
    "        attr = tree.keys()[0]\n",
    "        t = tree[attr][data[columns.index(attr)]]\n",
    "        return tree_test(data,columns,t)"
   ]
  },
  {
   "cell_type": "code",
   "execution_count": 132,
   "metadata": {
    "collapsed": true
   },
   "outputs": [],
   "source": [
    "#Applying tree test row wise to the RDD\n",
    "res_rdd = rdd2.map(lambda x:(x[0],tree_test(x[1],columns2,tree)))"
   ]
  },
  {
   "cell_type": "code",
   "execution_count": 133,
   "metadata": {
    "collapsed": false
   },
   "outputs": [
    {
     "name": "stdout",
     "output_type": "stream",
     "text": [
      "Accuracy: 100.0\n"
     ]
    }
   ],
   "source": [
    "#Calculating accuracy\n",
    "print \"Accuracy:\", 100*(res_rdd.filter(lambda x:x[0] == x[1]).count())/float(res_rdd.count())"
   ]
  },
  {
   "cell_type": "markdown",
   "metadata": {},
   "source": [
    "#### Adding support for continuous variables"
   ]
  },
  {
   "cell_type": "code",
   "execution_count": 139,
   "metadata": {
    "collapsed": true
   },
   "outputs": [],
   "source": [
    "##Loading dataset with continuous features\n",
    "sample_c = sc.textFile('../data/crx.csv')\n",
    "rdd_c=sample_c.map(lambda x:x.split()).map(lambda x: x[0].strip(\"'\").split(\",\"))\\\n",
    "            .map(lambda x:[v for v in x])\\\n",
    "            .map(lambda x: (str(x[-1]),[k for k in x[0:-1]]))\n",
    "columns_c = []\n",
    "for k in range(1,16):\n",
    "    columns_c.append('A'+str(k))"
   ]
  },
  {
   "cell_type": "code",
   "execution_count": null,
   "metadata": {
    "collapsed": true
   },
   "outputs": [],
   "source": [
    "def dicretize_columns(data,column_ids):"
   ]
  }
 ],
 "metadata": {
  "kernelspec": {
   "display_name": "Python 2",
   "language": "python",
   "name": "python2"
  },
  "language_info": {
   "codemirror_mode": {
    "name": "ipython",
    "version": 2
   },
   "file_extension": ".py",
   "mimetype": "text/x-python",
   "name": "python",
   "nbconvert_exporter": "python",
   "pygments_lexer": "ipython2",
   "version": "2.7.10"
  }
 },
 "nbformat": 4,
 "nbformat_minor": 0
}
