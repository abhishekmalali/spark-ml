{
 "cells": [
  {
   "cell_type": "markdown",
   "metadata": {},
   "source": [
    "# Ordinal Regression - Baseline"
   ]
  },
  {
   "cell_type": "markdown",
   "metadata": {},
   "source": [
    "In order to model categorical data there are two possible approaches:\n",
    "- multinomial logistic regression\n",
    "- ordinal regression\n",
    "\n",
    "### Multinomial logistic regression\n",
    "If the dependent variable $Y$ takes different discrete values, it can be modelled with an extension to the wide-known logistic regression model. Each category $c = c_1, ..., c_C$ is modelled via\n",
    "\n",
    "$$ \\mathbb{P}(Y_i = c_j) = \\frac{\\exp(\\beta_K X_i)}{1 + \\sum_{k=1}^K \\exp(\\beta_k X_i)}$$\n",
    "\n",
    "Both sklearn and Mlib implement this approach to some extent. I.e. sklearn can handle multinomial logistic regression, but uses a lbfgs or newton-cg approach only (no sgd) with support for L2 regularization solely. In Mlib \n",
    "\n",
    "However, multinomial logistic regression is not always the best model to choose. Consider i.e. the case of ratings. Here, the different categories represent ordinal values implying some kind of natural order. In a multinomial logistic regression model this order is neglected. I.e. rating '5' is as good as '4' and just another category.\n",
    "\n",
    "Links:\n",
    "- <http://scikit-learn.org/stable/modules/generated/sklearn.linear_model.LogisticRegression.html>\n",
    "- <http://spark.apache.org/docs/latest/mllib-linear-methods.html>\n",
    "- <http://de.slideshare.net/dbtsai/2014-0620-mlor-36132297>"
   ]
  },
  {
   "cell_type": "code",
   "execution_count": 1,
   "metadata": {
    "collapsed": false
   },
   "outputs": [],
   "source": [
    "import numpy as np\n",
    "import matplotlib.pyplot as plt\n",
    "import scipy as sc\n",
    "from sklearn.linear_model import LogisticRegression\n",
    "import os\n",
    "import pandas as pd\n",
    "import itertools\n",
    "from utils import loadCovertypeData"
   ]
  },
  {
   "cell_type": "markdown",
   "metadata": {},
   "source": [
    "For a description of the dataset see <https://archive.ics.uci.edu/ml/machine-learning-databases/covtype/covtype.info>"
   ]
  },
  {
   "cell_type": "code",
   "execution_count": 2,
   "metadata": {
    "collapsed": false
   },
   "outputs": [],
   "source": [
    "# Loading the dataset\n",
    "cache_path = os.path.join('..', 'cache')\n",
    "\n",
    "df = loadCovertypeData(os.path.join(cache_path, 'covtype.csv'))"
   ]
  },
  {
   "cell_type": "code",
   "execution_count": 3,
   "metadata": {
    "collapsed": false
   },
   "outputs": [
    {
     "data": {
      "text/html": [
       "<div>\n",
       "<table border=\"1\" class=\"dataframe\">\n",
       "  <thead>\n",
       "    <tr style=\"text-align: right;\">\n",
       "      <th></th>\n",
       "      <th>Elevation</th>\n",
       "      <th>Aspect</th>\n",
       "      <th>Slope</th>\n",
       "      <th>HDHyrdo</th>\n",
       "      <th>VDHydro</th>\n",
       "      <th>HDRoadways</th>\n",
       "      <th>9amHills</th>\n",
       "      <th>NoonHills</th>\n",
       "      <th>3pmHills</th>\n",
       "      <th>HDFirePoints</th>\n",
       "      <th>...</th>\n",
       "      <th>Soil_Type_32</th>\n",
       "      <th>Soil_Type_33</th>\n",
       "      <th>Soil_Type_34</th>\n",
       "      <th>Soil_Type_35</th>\n",
       "      <th>Soil_Type_36</th>\n",
       "      <th>Soil_Type_37</th>\n",
       "      <th>Soil_Type_38</th>\n",
       "      <th>Soil_Type_39</th>\n",
       "      <th>Soil_Type_40</th>\n",
       "      <th>Cover_Type</th>\n",
       "    </tr>\n",
       "  </thead>\n",
       "  <tbody>\n",
       "    <tr>\n",
       "      <th>0</th>\n",
       "      <td>2596</td>\n",
       "      <td>51</td>\n",
       "      <td>3</td>\n",
       "      <td>258</td>\n",
       "      <td>0</td>\n",
       "      <td>510</td>\n",
       "      <td>221</td>\n",
       "      <td>232</td>\n",
       "      <td>148</td>\n",
       "      <td>6279</td>\n",
       "      <td>...</td>\n",
       "      <td>0</td>\n",
       "      <td>0</td>\n",
       "      <td>0</td>\n",
       "      <td>0</td>\n",
       "      <td>0</td>\n",
       "      <td>0</td>\n",
       "      <td>0</td>\n",
       "      <td>0</td>\n",
       "      <td>0</td>\n",
       "      <td>5</td>\n",
       "    </tr>\n",
       "    <tr>\n",
       "      <th>1</th>\n",
       "      <td>2590</td>\n",
       "      <td>56</td>\n",
       "      <td>2</td>\n",
       "      <td>212</td>\n",
       "      <td>-6</td>\n",
       "      <td>390</td>\n",
       "      <td>220</td>\n",
       "      <td>235</td>\n",
       "      <td>151</td>\n",
       "      <td>6225</td>\n",
       "      <td>...</td>\n",
       "      <td>0</td>\n",
       "      <td>0</td>\n",
       "      <td>0</td>\n",
       "      <td>0</td>\n",
       "      <td>0</td>\n",
       "      <td>0</td>\n",
       "      <td>0</td>\n",
       "      <td>0</td>\n",
       "      <td>0</td>\n",
       "      <td>5</td>\n",
       "    </tr>\n",
       "    <tr>\n",
       "      <th>2</th>\n",
       "      <td>2804</td>\n",
       "      <td>139</td>\n",
       "      <td>9</td>\n",
       "      <td>268</td>\n",
       "      <td>65</td>\n",
       "      <td>3180</td>\n",
       "      <td>234</td>\n",
       "      <td>238</td>\n",
       "      <td>135</td>\n",
       "      <td>6121</td>\n",
       "      <td>...</td>\n",
       "      <td>0</td>\n",
       "      <td>0</td>\n",
       "      <td>0</td>\n",
       "      <td>0</td>\n",
       "      <td>0</td>\n",
       "      <td>0</td>\n",
       "      <td>0</td>\n",
       "      <td>0</td>\n",
       "      <td>0</td>\n",
       "      <td>2</td>\n",
       "    </tr>\n",
       "    <tr>\n",
       "      <th>3</th>\n",
       "      <td>2785</td>\n",
       "      <td>155</td>\n",
       "      <td>18</td>\n",
       "      <td>242</td>\n",
       "      <td>118</td>\n",
       "      <td>3090</td>\n",
       "      <td>238</td>\n",
       "      <td>238</td>\n",
       "      <td>122</td>\n",
       "      <td>6211</td>\n",
       "      <td>...</td>\n",
       "      <td>0</td>\n",
       "      <td>0</td>\n",
       "      <td>0</td>\n",
       "      <td>0</td>\n",
       "      <td>0</td>\n",
       "      <td>0</td>\n",
       "      <td>0</td>\n",
       "      <td>0</td>\n",
       "      <td>0</td>\n",
       "      <td>2</td>\n",
       "    </tr>\n",
       "    <tr>\n",
       "      <th>4</th>\n",
       "      <td>2595</td>\n",
       "      <td>45</td>\n",
       "      <td>2</td>\n",
       "      <td>153</td>\n",
       "      <td>-1</td>\n",
       "      <td>391</td>\n",
       "      <td>220</td>\n",
       "      <td>234</td>\n",
       "      <td>150</td>\n",
       "      <td>6172</td>\n",
       "      <td>...</td>\n",
       "      <td>0</td>\n",
       "      <td>0</td>\n",
       "      <td>0</td>\n",
       "      <td>0</td>\n",
       "      <td>0</td>\n",
       "      <td>0</td>\n",
       "      <td>0</td>\n",
       "      <td>0</td>\n",
       "      <td>0</td>\n",
       "      <td>5</td>\n",
       "    </tr>\n",
       "  </tbody>\n",
       "</table>\n",
       "<p>5 rows × 55 columns</p>\n",
       "</div>"
      ],
      "text/plain": [
       "   Elevation  Aspect  Slope  HDHyrdo  VDHydro  HDRoadways  9amHills  \\\n",
       "0       2596      51      3      258        0         510       221   \n",
       "1       2590      56      2      212       -6         390       220   \n",
       "2       2804     139      9      268       65        3180       234   \n",
       "3       2785     155     18      242      118        3090       238   \n",
       "4       2595      45      2      153       -1         391       220   \n",
       "\n",
       "   NoonHills  3pmHills  HDFirePoints     ...      Soil_Type_32  Soil_Type_33  \\\n",
       "0        232       148          6279     ...                 0             0   \n",
       "1        235       151          6225     ...                 0             0   \n",
       "2        238       135          6121     ...                 0             0   \n",
       "3        238       122          6211     ...                 0             0   \n",
       "4        234       150          6172     ...                 0             0   \n",
       "\n",
       "   Soil_Type_34  Soil_Type_35  Soil_Type_36  Soil_Type_37  Soil_Type_38  \\\n",
       "0             0             0             0             0             0   \n",
       "1             0             0             0             0             0   \n",
       "2             0             0             0             0             0   \n",
       "3             0             0             0             0             0   \n",
       "4             0             0             0             0             0   \n",
       "\n",
       "   Soil_Type_39  Soil_Type_40  Cover_Type  \n",
       "0             0             0           5  \n",
       "1             0             0           5  \n",
       "2             0             0           2  \n",
       "3             0             0           2  \n",
       "4             0             0           5  \n",
       "\n",
       "[5 rows x 55 columns]"
      ]
     },
     "execution_count": 3,
     "metadata": {},
     "output_type": "execute_result"
    }
   ],
   "source": [
    "df.head()"
   ]
  },
  {
   "cell_type": "code",
   "execution_count": 4,
   "metadata": {
    "collapsed": false
   },
   "outputs": [],
   "source": [
    "# split into variables\n",
    "respvar = ['Cover_Type']\n",
    "expvar = list(set(df.columns) - set(respvar))\n",
    "X = df[expvar]\n",
    "Y = df[respvar]"
   ]
  },
  {
   "cell_type": "code",
   "execution_count": 5,
   "metadata": {
    "collapsed": false
   },
   "outputs": [],
   "source": [
    "#Splitting into test and training sets\n",
    "from sklearn.cross_validation import train_test_split\n",
    "itrain, itest = train_test_split(xrange(X.shape[0]), train_size=0.7)\n",
    "\n",
    "mask=np.ones(X.shape[0], dtype='int')\n",
    "mask[itrain]=1\n",
    "mask[itest]=0\n",
    "mask = (mask==1)\n",
    "\n",
    "X_train = np.array(X[mask])\n",
    "X_test = np.array(X[~mask])\n",
    "Y_train = np.array(Y[mask]).flatten()\n",
    "Y_test = np.array(Y[~mask]).flatten()"
   ]
  },
  {
   "cell_type": "code",
   "execution_count": 6,
   "metadata": {
    "collapsed": true
   },
   "outputs": [],
   "source": [
    "# sklearn multinomial logistic regression\n",
    "# set max_iter higher to increase accuracy. Leaving to default 100 needs ~ 1min\n",
    "clf = LogisticRegression(penalty='l2', multi_class='multinomial', solver='lbfgs', max_iter=200)"
   ]
  },
  {
   "cell_type": "code",
   "execution_count": 7,
   "metadata": {
    "collapsed": false
   },
   "outputs": [
    {
     "name": "stdout",
     "output_type": "stream",
     "text": [
      "CPU times: user 1min 13s, sys: 21.7 s, total: 1min 35s\n",
      "Wall time: 1min 5s\n"
     ]
    },
    {
     "data": {
      "text/plain": [
       "LogisticRegression(C=1.0, class_weight=None, dual=False, fit_intercept=True,\n",
       "          intercept_scaling=1, max_iter=200, multi_class='multinomial',\n",
       "          penalty='l2', random_state=None, solver='lbfgs', tol=0.0001,\n",
       "          verbose=0)"
      ]
     },
     "execution_count": 7,
     "metadata": {},
     "output_type": "execute_result"
    }
   ],
   "source": [
    "# train train set\n",
    "%time clf.fit(X_train, Y_train)"
   ]
  },
  {
   "cell_type": "markdown",
   "metadata": {},
   "source": [
    "for the sklearn implementation of the newton-cg / lbfgs solvers see https://github.com/scikit-learn/scikit-learn/blob/master/sklearn/utils/optimize.py"
   ]
  },
  {
   "cell_type": "code",
   "execution_count": 8,
   "metadata": {
    "collapsed": false
   },
   "outputs": [
    {
     "name": "stdout",
     "output_type": "stream",
     "text": [
      "CPU times: user 82.4 ms, sys: 101 ms, total: 184 ms\n",
      "Wall time: 110 ms\n"
     ]
    }
   ],
   "source": [
    "# store class labels\n",
    "%time Y_pred = clf.predict(X_test)"
   ]
  },
  {
   "cell_type": "code",
   "execution_count": 9,
   "metadata": {
    "collapsed": false
   },
   "outputs": [
    {
     "name": "stdout",
     "output_type": "stream",
     "text": [
      "accuracy for multinomial logistic regression: 64.4827427942\n"
     ]
    }
   ],
   "source": [
    "# compute accuracy\n",
    "accuracy = (1.0 * np.sum(Y_pred - Y_test == 0)) / Y_test.shape[0]\n",
    "print 'accuracy for multinomial logistic regression:', accuracy * 100"
   ]
  },
  {
   "cell_type": "markdown",
   "metadata": {
    "collapsed": true
   },
   "source": [
    "## Ordinal regression\n",
    "To make up for this missing order, another model that is not yet implemented in sklearn nor Mlib is ordinal regression. The following is based mainly on Chapter9, Regression for Categorical Data, Gerhard Tutz. \n",
    "\n",
    "#### Model setup\n",
    "Suppose we are given a response captured by a random variable $Y \\in \\mathbb{R}$ which is categorial with w.l.o.g. (a mapping always exists) $K$ different categories $\\lbrace 1, ..., K \\rbrace $ with their natural order and furthermore\n",
    "$$ \\mathbb{P} ( Y \\in \\lbrace 1, ..., K \\rbrace) = 1$$\n",
    "\n",
    "We model the ordinal regression model using binary variables $y_1, ..., y_K$ (i.e. $y_k \\sim \\mathrm{Ber}(p_k) \\quad \\quad 0 \\leq p_k \\leq 1$) which will be used to transform an ordinal response variable into a binary response. This way, ordinal regression can be seen as an extension to a classical, binary variable model (such as logistic regression).\n",
    "\n",
    "For the transformation of the ordinal response to a binary one, there are three different, commonly used approaches(let $r =1, ..., K$):\n",
    "\n",
    "- Cumulative model:\n",
    "    $$ y_r = \\begin{cases}1 \\quad \\quad Y \\in \\lbrace 1, ..., r \\rbrace \\\\ 0 \\quad \\quad Y \\in \\lbrace r+1, ..., K\\rbrace\\end{cases}$$\n",
    "- Sequential model:\n",
    "    $$ y_r\\vert_{\\lbrace Y \\geq r \\rbrace} = \\begin{cases}1 \\quad \\quad Y =r \\vert Y \\geq r \\\\ 0 \\quad \\quad Y >r \\vert Y \\geq r \\end{cases}$$\n",
    "- Adjacent model:\n",
    "    $$ y_r\\vert_{\\lbrace Y \\in \\lbrace r, r+1\\rbrace \\rbrace} = \\begin{cases}1 \\quad \\quad Y = r \\vert Y \\in \\lbrace r, r+1\\rbrace \\\\ 0 \\quad \\quad Y = r+1 \\vert Y \\in \\lbrace r, r+1\\rbrace \\end{cases}$$ \n",
    "    \n",
    "### Cumulative model (Threshold model)\n",
    "The cumulative model (or threshold model) can be deviated assuming a latent, underlying r.v. $\\tilde{Y}$ for which the actual, observed variable $Y$ can be seen as somehow rounded.\n",
    "\n",
    "The link between those variables shall be modeled through\n",
    "$$ \\lbrace Y = r \\rbrace = \\lbrace \\theta_{r-1} < \\tilde{Y} \\leq \\theta_r \\rbrace$$\n",
    "for $-\\infty = \\theta_0 < \\theta_1 < ... < \\theta_{K-1} < \\theta_K = +\\infty$\n",
    "For the latent variable a linear regression model with $x, \\beta \\in \\mathbb{R^n}$ and a random variable $\\epsilon$ is choosen:\n",
    "\n",
    "$$ \\tilde{Y} = - x^T\\beta + \\epsilon $$\n",
    "It follows that\n",
    "$$ \\mathbb{P}(y_r = 1 \\vert x, \\beta) = \\mathbb{P}(Y \\leq r \\vert x, \\beta) = \\mathbb{P}(-x^T\\beta + \\epsilon \\leq \\theta_r) = \\mathbb{P}(\\epsilon \\leq \\theta_r + x^T\\beta) = F_\\epsilon(\\theta_r + x^T\\beta)$$\n",
    "\n",
    "$$ \\implies \\mathbb{P}(Y = r) = F_\\epsilon(\\theta_r + x^T\\beta) - F_\\epsilon(\\theta_{r-1} + x^T\\beta)$$\n",
    "using the cdf $F_\\epsilon$ of $\\epsilon$.\n",
    "\n",
    "In the model setup the only thing left to define is what distribution to assume/choose for $\\epsilon$. Some possible choices which yield different popular models are:\n",
    "\n",
    "- cumulative logit model: $$ \\epsilon \\sim \\mathrm{Logistic}(0,1)$$\n",
    "- probit model: $$ \\epsilon \\sim \\mathcal{N} (0, 1)$$\n",
    "- Maximum extreme-value model: $$ \\epsilon \\sim \\mathrm{Gumbel}(0, 1)$$\n",
    "- Minimum extreme-value model: $$ -\\epsilon \\sim \\mathrm{Gumbel}(0, 1)$$"
   ]
  },
  {
   "cell_type": "code",
   "execution_count": 12,
   "metadata": {
    "collapsed": false
   },
   "outputs": [
    {
     "data": {
      "image/png": "[encoded data removed]",
      "text/plain": [
       "<matplotlib.figure.Figure at 0x10b05cb90>"
      ]
     },
     "metadata": {},
     "output_type": "display_data"
    }
   ],
   "source": [
    "# pdfs for the different choices of epsilon\n",
    "%matplotlib inline\n",
    "from scipy.stats import logistic, norm, gumbel_l\n",
    "import seaborn as sns\n",
    "sns.set_style(\"whitegrid\")\n",
    "\n",
    "fig, ax = plt.subplots(1, 1)\n",
    "fig.set_size_inches(6, 4, forward=True)\n",
    "x = np.linspace(-6, 6, 200)\n",
    "ax.plot(x, logistic.pdf(x), c=sns.color_palette()[0], lw=3, alpha=0.6, label='cumulative logit')\n",
    "ax.plot(x, norm.pdf(x), c=sns.color_palette()[1], lw=3, alpha=0.6, label='probit')\n",
    "ax.plot(x, gumbel_l.pdf(x), c=sns.color_palette()[2], lw=3, alpha=0.6, label='maximum extreme-value model')\n",
    "ax.plot(x, np.flipud(gumbel_l.pdf(x)), c=sns.color_palette()[4], lw=3, alpha=0.6, label='minimum extreme-value model')\n",
    "plt.legend()\n",
    "plt.ylim([0, 0.6])\n",
    "plt.savefig('epsdf.png', dpi=150)"
   ]
  },
  {
   "cell_type": "markdown",
   "metadata": {},
   "source": [
    "## Fitting the model\n",
    "\n",
    "Assume we are given $n$ datapoints $(Y_1, X_1), ..., (Y_n, X_n)$ with $Y_i \\in \\lbrace 1, ..., K \\rbrace, \\quad X_i \\in \\mathbb{R}^m$ (independence assumption as usual). We simplify the fitting process, by using predefined boundaries $\\theta$. Of course it is also possible to put a prior on $\\theta$ and include it in the optimization approach but to do so, additional constraints need to be satisfied (i.e. $-\\infty = \\theta_0 < 1 < \\theta_1 < 2 < ... < \\theta_{K-1} < K < \\theta_K = \\infty$). One way to define the bounds is to use the middle, i.e.\n",
    "$\\theta_r = r - 0.5 \\quad \\text{for} \\quad r = 1, ..., K-1$. \n",
    "Then, the log likelihood function of the data $\\mathcal{D} = \\lbrace (Y_1, X_1), ..., (Y_n, X_n) \\rbrace$ is given as\n",
    "\n",
    "$$ \\mathcal{L}(\\beta \\; \\vert \\; \\mathcal{D}, \\theta) = \\sum_{i=1}^n \\log \\left( F_\\epsilon(\\theta_{Y_i} + X_i^T \\beta) - F_\\epsilon(\\theta_{Y_i-1} + X_i^T\\beta) \\right)$$\n",
    "\n",
    "### Maximum Likelihood Estimate\n",
    "this allows us to derive a Maximum Likelihood for the model\n",
    "\n",
    "$$ \\hat{\\beta}_{\\mathrm{MLE}} = \\underset{\\beta}{\\operatorname{argmax}} \\mathcal{L}(\\beta \\; \\vert \\; \\mathcal{D}, \\theta)$$\n",
    "### Maximum a posteriori estimate\n",
    "The MAP estimate can be derived by ignoring the normalization constant (cf. properties of an argmax) as \n",
    "$$ \\hat{\\beta}_{\\mathrm{MAP}} = \\underset{\\beta}{\\operatorname{argmax}} \\mathcal{L}(\\beta \\; \\vert \\; \\mathcal{D}, \\theta) + \\log f_\\beta(\\beta)$$\n",
    "\n",
    "with $f_\\beta$ being the pdf of the choosen prior distribution for $\\beta$. Popular choices are\n",
    "\n",
    "- Ridge regression: $\\beta \\sim \\mathcal{N}(0, \\tau I)\\quad \\quad$  (Gaussian prior)\n",
    "- LASSO regression: $\\beta_i \\sim \\mathrm{Laplace}(0, \\tau)\\quad \\quad$  (Laplace prior, indep. components)\n",
    "\n",
    "### Implementation notes\n",
    "One way to solve the optimization problems is to used parallelized stochastic gradient descent as described in\n",
    "<http://www.research.rutgers.edu/~lihong/pub/Zinkevich11Parallelized.pdf>. I.e. the data is distributed randomly over the nodes (the stoch. gradient shuffle step) and then per node the gradient is computed. To optimize the process, each node should node the same amount of data and the gradient is computed over all data. Thus the 'stochasticness' is done mainly in the shuffle step. After each round of computation results are aggregated by average."
   ]
  },
  {
   "cell_type": "markdown",
   "metadata": {},
   "source": [
    "#### General Gradient\n",
    "$$ \n",
    "\\begin{split}\n",
    "\\frac{\\partial \\mathcal{L}(\\beta \\;\\vert\\; \\mathcal{D}, \\theta )}{\\partial \\beta_j} &= \\frac{\\partial}{\\partial \\beta_j} \\sum_{i=1}^n \\log \\left( F_\\epsilon\\left( \\theta_{Y_i}  + X_i^T\\beta \\right) - F_\\epsilon\\left( \\theta_{Y_i - 1}  + X_i^T\\beta \\right) \\right) \\\\\n",
    "&= \\sum_{i=1}^n \\frac{\\partial}{\\partial \\beta_j} \\log \\left( F_\\epsilon\\left( \\theta_{Y_i}  + X_i^T\\beta \\right) - F_\\epsilon\\left( \\theta_{Y_i - 1}  + X_i^T\\beta \\right) \\right) \\\\\n",
    "&= \\sum_{i=1}^n  \\frac{\\frac{\\partial}{\\partial \\beta_j}\\left[ F_\\epsilon\\left( \\theta_{Y_i}  + X_i^T\\beta \\right) - F_\\epsilon\\left( \\theta_{Y_i - 1}  + X_i^T\\beta \\right) \\right]}{F_\\epsilon\\left( \\theta_{Y_i}  + X_i^T\\beta \\right) - F_\\epsilon\\left( \\theta_{Y_i - 1}  + X_i^T\\beta \\right)} \\\\\n",
    "&= \\sum_{i=1}^n  \\frac{f_\\epsilon\\left( \\theta_{Y_i}  + X_i^T\\beta \\right)X_{i,j} - f_\\epsilon\\left( \\theta_{Y_i - 1}  + X_i^T\\beta \\right)X_{i,j}}{F_\\epsilon\\left( \\theta_{Y_i}  + X_i^T\\beta \\right) - F_\\epsilon\\left( \\theta_{Y_i - 1}  + X_i^T\\beta \\right)} \\\\\n",
    "&= \\sum_{i=1}^n  \\frac{f_\\epsilon\\left( \\theta_{Y_i}  + X_i^T\\beta \\right) - f_\\epsilon\\left( \\theta_{Y_i - 1}  + X_i^T\\beta \\right)}{F_\\epsilon\\left( \\theta_{Y_i}  + X_i^T\\beta \\right) - F_\\epsilon\\left( \\theta_{Y_i - 1}  + X_i^T\\beta \\right)}X_{i,j} \\\\\n",
    "&= \\sum_{i=1}^n  g(\\theta, X_i, Y_i)X_{i,j} \\\\\n",
    "\\end{split}\n",
    "$$\n",
    "With $X_{i,j}$ being the $j$-th component of the vector $X_i$ and $f_\\epsilon$ being the density of $\\epsilon$"
   ]
  },
  {
   "cell_type": "markdown",
   "metadata": {},
   "source": [
    "<table>\n",
    "<tr>\n",
    "<td>Logistic distribution</td>\n",
    "<td>$ \\mathrm{Logistic}(\\mu, s)$</td>\n",
    "<td>$$ F(x) = \\frac{1}{1 + \\exp(-\\frac{x-\\mu}{s})}$$</td>\n",
    "<td>$$ f(x) = \\frac{\\exp(-\\frac{x-\\mu}{s}}{s \\left( 1 + \\exp{- \\frac{x-\\mu}{s}}\\right)^2}$$</td>\n",
    "</tr>\n",
    "<tr>\n",
    "<td>Normal distribution</td>\n",
    "<td>$ \\mathcal{N}(\\mu, \\sigma)$</td>\n",
    "<td>$$ F(x) = \\Phi\\left(\\frac{x - \\mu}{\\sigma}\\right)$$</td>\n",
    "<td>$$ f(x) = \\frac{1}{\\sigma}\\varphi\\left(\\frac{x - \\mu}{\\sigma}\\right)$$</td>\n",
    "</tr>\n",
    "<tr>\n",
    "<td>Gumbel distribution (Maximum extreme value)</td>\n",
    "<td>$ \\mathrm{Gumbel}(\\mu, \\beta)$</td>\n",
    "<td>$$ F(x) = \\exp \\left( - \\exp \\left(- \\frac{x - \\mu}{\\beta} \\right) \\right)$$</td>\n",
    "<td>$$ f(x) = \\frac{1}{\\beta}\\exp \\left( - \\left( \\frac{x-\\mu}{\\beta} + \\exp \\left( \\frac{x - \\mu}{\\beta}\\right) \\right) \\right)$$</td>\n",
    "</tr>\n",
    "<tr>\n",
    "<td>Flipped Gumbel distribution (Minimum extreme value)</td>\n",
    "<td>$ -\\mathrm{Gumbel}(\\mu, \\beta)$</td>\n",
    "<td>$$ F(x) = \\exp \\left( - \\exp \\left(- \\frac{-x - \\mu}{\\beta} \\right) \\right)$$</td>\n",
    "<td>$$ f(x) = \\frac{1}{\\beta}\\exp \\left( - \\left( \\frac{-x-\\mu}{\\beta} + \\exp \\left( \\frac{-x - \\mu}{\\beta}\\right) \\right) \\right)$$</td>\n",
    "</tr>\n",
    "</table>"
   ]
  },
  {
   "cell_type": "code",
   "execution_count": 5,
   "metadata": {
    "collapsed": true
   },
   "outputs": [],
   "source": [
    "# implementation of the cumulative model (probit case)\n",
    "\n",
    "# negative log likelihood\n",
    "def nloglikelihood(X, y, theta, beta):\n",
    "    llsum = 0.\n",
    "    \n",
    "    for i in xrange(X.shape[0]):\n",
    "        llsum += np.log(norm.cdf(theta[y[i]]) - norm.cdf(theta[y[i]-1]))\n",
    "    \n",
    "    return -llsum\n",
    "\n",
    "# helper function g\n",
    "def gradient_g(x, yi, theta, beta):\n",
    "    g = norm.pdf(theta[yi] + np.dot(x, beta)) - norm.pdf(theta[yi - 1] + np.dot(x, beta)) / \\\n",
    "    (norm.cdf(theta[yi] + np.dot(x, beta)) - norm.cdf(theta[yi - 1] + np.dot(x, beta)))\n",
    "    return g\n",
    "\n",
    "# negative log likelihood gradient\n",
    "def nloglikelihood_gradient(X, y, theta, beta):\n",
    "    grad = 0\n",
    "    # more than one sample\n",
    "    if len(X.shape) > 1:\n",
    "        grad = np.zeros(X.shape[1])\n",
    "        for i in xrange(X.shape[0]):\n",
    "            grad += gradient_g(X[i, :], y[i], theta, beta)\n",
    "    else:\n",
    "        grad = gradient_g(X, y, theta, beta) * X\n",
    "            \n",
    "    return -grad\n",
    "    \n",
    "# stochastic gradient descent\n",
    "def sgd(X, y, theta, beta0, learning_rate = 0.05, num_epochs=1):\n",
    "    \n",
    "    beta = beta0.copy()\n",
    "    N = X.shape[0]\n",
    "    for epoch in xrange(num_epochs):\n",
    "        \n",
    "        # randomly shuffle data\n",
    "        permutation = np.random.choice(range(N), N, replace = False)\n",
    "        \n",
    "        # update using all ratings (minibatch size = 1)\n",
    "        for i in xrange(N):\n",
    "            # use here in a later version momentum\n",
    "            idx = permutation[i]\n",
    "            beta -= learning_rate * nloglikelihood(X[idx, :], y[idx], theta, beta)\n",
    "        "
   ]
  },
  {
   "cell_type": "markdown",
   "metadata": {},
   "source": [
    "### Example: Predicting the rating based on 'words'\n",
    "One possibility to predict a rating is to use actual contents. This could be for a the Jester joke dataset the actual joke with its wording, or given restaurant reviews its wording (i.e. relative word count). These can be either used as binary features (if some popular word exists) or as relative / absolute count.\n"
   ]
  },
  {
   "cell_type": "markdown",
   "metadata": {},
   "source": [
    "#### Links:\n",
    "- <http://www.cambridge.org/de/academic/subjects/statistics-probability/statistical-theory-and-methods/regression-categorical-data>\n",
    "- <http://fa.bianp.net/blog/2013/logistic-ordinal-regression/>\n",
    "- <http://arxiv.org/pdf/1408.2327v6.pdf>\n",
    "- <http://www.stat.ufl.edu/~aa/ordinal/agresti_ordinal_tutorial.pdf>\n",
    "- <http://onlinelibrary.wiley.com/book/10.1002/9780470594001>"
   ]
  },
  {
   "cell_type": "markdown",
   "metadata": {
    "collapsed": true
   },
   "source": [
    "#### A versatile model"
   ]
  },
  {
   "cell_type": "markdown",
   "metadata": {},
   "source": [
    "In the following, a general model is developed to model ratings. Therefore, the following variables are introduced\n",
    "<table>\n",
    "<tr>\n",
    "<td><b>variable</b></td><td><b>meaning</b></td>\n",
    "</tr>\n",
    "<tr>\n",
    "<td>$N$</td><td>number of data samples $n=1, ..., N$</td>\n",
    "</tr>\n",
    "<tr>\n",
    "<td>$K$</td><td>number of latent variables per user and item</td>\n",
    "</tr>\n",
    "<tr>\n",
    "<td>$L$</td><td>number of features describing each item</td>\n",
    "</tr>\n",
    "<tr>\n",
    "<td>$I$</td><td>number of users, i.e. we have users $i = 1, ..., I$</td>\n",
    "</tr>\n",
    "<tr>\n",
    "<td>$J$</td><td>number of items, i.e. $j = 1, ..., J$</td>\n",
    "</tr>\n",
    "<tr>\n",
    "<td>$\\mathcal{D}$</td><td>data matrix consisting of $N$ rows $D_n$</td>\n",
    "</tr>\n",
    "<tr>\n",
    "<td>$\\mathcal{X}$</td><td>feature data matrix consisting of $J$ rows $X_n$</td>\n",
    "</tr>\n",
    "<tr>\n",
    "<td>$X_n$</td><td>$n$th data row, i.e $X_n = (X_{n, 1}, ..., , X_{n, L})^T$ with $X_{n,l} \\in \\mathbb{R}$</td>\n",
    "</tr>\n",
    "<tr>\n",
    "<td>$D_n$</td><td>$n$th data row, i.e $D_n = (r_n, i_n, j_n)^T$ with $r_n \\in \\lbrace 1, ..., R\\rbrace$ being a rating, $i_n, j_n$ being indices adressing a user and a item</td>\n",
    "</tr>\n",
    "<tr>\n",
    "<td>$R$</td><td>number of ratings, i.e. each rating $r$ has to be $\\in \\lbrace 1, ..., R \\rbrace$</td>\n",
    "</tr>\n",
    "<tr>\n",
    "<td>$\\beta$</td><td>vector describing the buckets, i.e. $-\\infty = \\beta_0 < 1 < \\beta_1 < ... < \\beta_{R-1} < R < \\beta_R = \\infty$</td>\n",
    "</tr>\n",
    "</table>"
   ]
  },
  {
   "cell_type": "markdown",
   "metadata": {},
   "source": [
    "Define now the model using the ordinal regression approach with a latent variable\n",
    "\n",
    "$$\\tilde{Y}_{i, j} = - \\left( u_i^Tv_j + X_j^Tw + a_i + b_j + g \\right) + \\epsilon$$\n",
    "Let $Y_n := Y_{i_n, j_n}$\n",
    "\n",
    "The model variables have the following definition/meaning \n",
    "<table>\n",
    "<tr>\n",
    "<td>$u_i \\in \\mathbb{R}^K$</td><td>latent variables of user $i$</td>\n",
    "</tr>\n",
    "<tr>\n",
    "<td>$v_j \\in \\mathbb{R}^K$</td><td>latent variables of item $j$</td>\n",
    "</tr>\n",
    "<tr>\n",
    "<td>$a_i \\in \\mathbb{R}$</td><td>bias for user $i$</td>\n",
    "</tr>\n",
    "<tr>\n",
    "<td>$b_j \\in \\mathbb{R}$</td><td>bias of item $j$</td>\n",
    "</tr>\n",
    "<tr>\n",
    "<td>$g \\in \\mathbb{R}$</td><td>global bias</td>\n",
    "</tr>\n",
    "<tr>\n",
    "<td>$w \\in \\mathbb{R}^L$</td><td>weights for the $j$th item features</td>\n",
    "</tr>\n",
    "</table>\n",
    "\n",
    "Define $\\chi(i,j) := u_i^Tv_j + X_j^Tw + a_i + b_j + g$ and $\\chi_n := \\chi(i_n, j_n)$"
   ]
  },
  {
   "cell_type": "markdown",
   "metadata": {},
   "source": [
    "The full model is parametrized via\n",
    "$$\\theta = \\begin{pmatrix} u_1 & ... & u_I & v_1 & ... & v_J & a_1 & ... & a_I & b_1 & ... & b_J & g & w \\end{pmatrix}^T$$\n",
    "\n",
    "We can write the loglikelihood as\n",
    "\n",
    "$$\\mathcal{L}(\\theta \\,\\vert\\, \\mathcal{D}, \\mathcal{X}, \\beta) = \\sum_{n=1}^N \\log \\left( F_\\epsilon(\\beta_{Y_n} + \\chi_n) - F_\\epsilon(\\beta_{Y_n - 1} + \\chi_n) \\right)$$\n"
   ]
  },
  {
   "cell_type": "markdown",
   "metadata": {},
   "source": [
    "##### Computing the gradient"
   ]
  },
  {
   "cell_type": "markdown",
   "metadata": {},
   "source": [
    "The gradient can be computed easily via the standard rules\n",
    "\n",
    "$$\n",
    "\\begin{split}\n",
    "\\frac{\\partial}{\\partial u_i} \\mathcal{L}(\\theta \\,\\vert\\, \\mathcal{D}, \\mathcal{X}, \\beta) &= \\sum_{n=1}^N \\frac{\\partial}{\\partial u_i} \\log \\left( F_\\epsilon(\\beta_{Y_n} + \\chi_n) - F_\\epsilon(\\beta_{Y_n - 1} + \\chi_n) \\right) \\\\\n",
    "&= \\sum_{n \\in \\lbrace n =1, ..., N \\;\\vert\\; i_n = i\\rbrace} \\frac{\\partial}{\\partial u_i} \\log \\left( F_\\epsilon(\\beta_{Y_n} + \\chi_n) - F_\\epsilon(\\beta_{Y_n - 1} + \\chi_n) \\right)\n",
    "\\end{split}\n",
    "$$\n",
    "\n",
    "Let $I_i := \\lbrace n =1, ..., N \\;\\vert\\; i_n = i\\rbrace, \\quad J_j := \\lbrace n =1, ..., N \\;\\vert\\; j_n = j\\rbrace$ , then\n",
    "\n",
    "$$\n",
    "\\begin{split}\n",
    "\\frac{\\partial}{\\partial u_i} \\mathcal{L}(\\theta \\,\\vert\\, \\mathcal{D}, \\mathcal{X}, \\beta) &= \\sum_{n \\in I_i}  \\frac{ \\frac{\\partial}{\\partial u_i}\\left( F_\\epsilon(\\beta_{Y_n} + \\chi_n) - F_\\epsilon(\\beta_{Y_n - 1} + \\chi_n) \\right)}{F_\\epsilon(\\beta_{Y_n} + \\chi_n) - F_\\epsilon(\\beta_{Y_n - 1} + \\chi_n)} \\\\\n",
    "&= \\sum_{n \\in I_i}  \\frac{ f_\\epsilon(\\beta_{Y_n} + \\chi_n) - f_\\epsilon(\\beta_{Y_n - 1} + \\chi_n)}{F_\\epsilon(\\beta_{Y_n} + \\chi_n) - F_\\epsilon(\\beta_{Y_n - 1} + \\chi_n)}\\frac{\\partial}{\\partial u_i} \\chi_n\n",
    "\\end{split}\n",
    "$$"
   ]
  },
  {
   "cell_type": "markdown",
   "metadata": {},
   "source": [
    "The structure will be always the same, so define\n",
    "$$ q_n := \\frac{ f_\\epsilon(\\beta_{Y_n} + \\chi_n) - f_\\epsilon(\\beta_{Y_n - 1} + \\chi_n)}{F_\\epsilon(\\beta_{Y_n} + \\chi_n) - F_\\epsilon(\\beta_{Y_n - 1} + \\chi_n)}$$\n",
    "\n",
    "the gradient of any $\\xi$ of the individual components can now be written as\n",
    "\n",
    "$$ \\frac{\\partial}{\\partial \\xi} \\mathcal{L}(\\theta \\,\\vert\\, \\mathcal{D}, \\mathcal{X}, \\beta) = \\sum_{n=1}^N q_n \\frac{\\partial}{\\partial \\xi}\\chi_n$$\n",
    "(note that for many terms this is zero!)\n",
    "\n",
    "Given\n",
    "\n",
    "$$ \\frac{\\partial}{\\partial u_i}\\chi_n = \\begin{cases} v_{j_n} \\quad n \\in I_i \\\\\n",
    "0 \\quad \\text{else}\\end{cases}$$\n",
    "$$ \\frac{\\partial}{\\partial v_j}\\chi_n = \\begin{cases} u_{i_n} \\quad n \\in J_j \\\\\n",
    "0 \\quad \\text{else}\\end{cases}$$\n",
    "$$ \\frac{\\partial}{\\partial a_i}\\chi_n = \\begin{cases} 1 \\quad n \\in I_i \\\\\n",
    "0 \\quad \\text{else}\\end{cases}$$\n",
    "$$ \\frac{\\partial}{\\partial b_j}\\chi_n = \\begin{cases} 1 \\quad n \\in J_j \\\\\n",
    "0 \\quad \\text{else}\\end{cases}$$\n",
    "\n",
    "$$ \\frac{\\partial}{\\partial w}\\chi_n = X_{j_n}$$\n",
    "$$\\frac{\\partial}{\\partial g}\\chi_n = 1$$\n",
    "\n",
    "the gradient of the full model is\n",
    "\n",
    "$$ \\frac{\\partial}{\\partial \\theta} \\mathcal{L}(\\theta \\,\\vert\\, \\mathcal{D}, \\mathcal{X}, \\beta) = \\begin{pmatrix} \\sum_{n \\in I_1}q_n v_{j_n} & ... & \\sum_{n \\in I_I}q_n v_{j_n} & \\sum_{n \\in J_1}q_n u_{i_n} & ... & \\sum_{n \\in J_J}q_n u_{i_n} & \\sum_{n \\in I_1}q_n & ... & \\sum_{n \\in I_I}q_n & \\sum_{n \\in J_1}q_n & ... & \\sum_{n \\in J_J}q_n & \\sum_{n =1, ..., N}q_n & \\sum_{n =1, ..., N}q_nX_{j_n} \\end{pmatrix}^T$$"
   ]
  },
  {
   "cell_type": "code",
   "execution_count": null,
   "metadata": {
    "collapsed": true
   },
   "outputs": [],
   "source": []
  }
 ],
 "metadata": {
  "kernelspec": {
   "display_name": "Python 2",
   "language": "python",
   "name": "python2"
  },
  "language_info": {
   "codemirror_mode": {
    "name": "ipython",
    "version": 2
   },
   "file_extension": ".py",
   "mimetype": "text/x-python",
   "name": "python",
   "nbconvert_exporter": "python",
   "pygments_lexer": "ipython2",
   "version": "2.7.10"
  }
 },
 "nbformat": 4,
 "nbformat_minor": 0
}
