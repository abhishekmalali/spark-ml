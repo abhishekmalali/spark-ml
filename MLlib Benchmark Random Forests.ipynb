{
 "cells": [
  {
   "cell_type": "code",
   "execution_count": 2,
   "metadata": {
    "collapsed": true
   },
   "outputs": [],
   "source": [
    "import findspark\n",
    "findspark.init()\n",
    "import pyspark\n",
    "sc = pyspark.SparkContext()"
   ]
  },
  {
   "cell_type": "code",
   "execution_count": 16,
   "metadata": {
    "collapsed": false
   },
   "outputs": [],
   "source": [
    "from pyspark.ml import Pipeline\n",
    "from pyspark.mllib.tree import RandomForest\n",
    "from pyspark.ml.classification import RandomForestClassifier\n",
    "from pyspark.ml.feature import StringIndexer, VectorIndexer\n",
    "from pyspark.ml.evaluation import MulticlassClassificationEvaluator\n",
    "from pyspark.mllib.util import MLUtils"
   ]
  },
  {
   "cell_type": "markdown",
   "metadata": {},
   "source": [
    "#### Subset of dataset"
   ]
  },
  {
   "cell_type": "code",
   "execution_count": 23,
   "metadata": {
    "collapsed": false
   },
   "outputs": [],
   "source": [
    "import csv\n",
    "import itertools\n",
    "data = []\n",
    "num_rows = 40000;\n",
    "row_num = 0\n",
    "with open('rForests/data/covtype.csv', 'rb') as csvfile:\n",
    "    spamreader = csv.reader(csvfile, delimiter=',')\n",
    "    for row in spamreader:\n",
    "        row_num += 1\n",
    "        data.append((int(row[-1])-1,row[0:-1]))\n",
    "        if row_num >= num_rows:\n",
    "            break\n",
    "\n",
    "soil_list =[]\n",
    "for k in range(40):\n",
    "    string = 'Soil_Type_' + str(k+1)\n",
    "    soil_list.append(string)\n",
    "WA_list =[]\n",
    "for k in range(4):\n",
    "    string = 'WA_' + str(k+1)\n",
    "    WA_list.append(string)\n",
    "names = [['Elevation'], ['Aspect'], ['Slope'], ['HDHyrdo'], ['VDHydro'], ['HDRoadways'], \\\n",
    "         ['9amHills'],['NoonHills'], ['3pmHills'], ['HDFirePoints'], WA_list,\\\n",
    "         soil_list, ['Cover_Type']]\n",
    "columns_data = list(itertools.chain(*names))"
   ]
  },
  {
   "cell_type": "code",
   "execution_count": 24,
   "metadata": {
    "collapsed": true
   },
   "outputs": [],
   "source": [
    "rdd = sc.parallelize(data)"
   ]
  },
  {
   "cell_type": "code",
   "execution_count": 25,
   "metadata": {
    "collapsed": true
   },
   "outputs": [],
   "source": [
    "from pyspark.mllib.regression import LabeledPoint\n",
    "#Turn it into RDD of LabeledPoints\n",
    "rdd=rdd.map(lambda x: LabeledPoint(x[0],x[1]))# Subtract 1 from label so it goes from 0-6 not 1-7"
   ]
  },
  {
   "cell_type": "code",
   "execution_count": 41,
   "metadata": {
    "collapsed": false
   },
   "outputs": [
    {
     "name": "stdout",
     "output_type": "stream",
     "text": [
      "CPU times: user 19.1 ms, sys: 6.69 ms, total: 25.8 ms\n",
      "Wall time: 36 s\n"
     ]
    }
   ],
   "source": [
    "%time model = RandomForest.trainClassifier(rdd, numClasses=7, categoricalFeaturesInfo={},\\\n",
    "                                             numTrees=30, featureSubsetStrategy=\"auto\",\\\n",
    "                                             impurity='gini', maxDepth=30, maxBins=32)"
   ]
  },
  {
   "cell_type": "markdown",
   "metadata": {},
   "source": [
    "#### For the full dataset"
   ]
  },
  {
   "cell_type": "code",
   "execution_count": 48,
   "metadata": {
    "collapsed": false
   },
   "outputs": [],
   "source": [
    "# input as CSV\n",
    "txtFile=sc.textFile('rForests/data/covtype.csv')"
   ]
  },
  {
   "cell_type": "code",
   "execution_count": 49,
   "metadata": {
    "collapsed": false
   },
   "outputs": [],
   "source": [
    "#Convert it into RDD of lists \n",
    "rdd=(txtFile.map(lambda x:x.split())\n",
    "    .map(lambda x: x[0].strip(\"'\").split(\",\"))\n",
    "    .map(lambda x:[float(v) for v in x])\n",
    "    .map(lambda x: (x[-1]-1,x[0:-1])))\n"
   ]
  },
  {
   "cell_type": "code",
   "execution_count": 50,
   "metadata": {
    "collapsed": true
   },
   "outputs": [],
   "source": [
    "#Columns for future reference\n",
    "columns=['Elevation',\n",
    "         'Aspect',\n",
    "         'Slope',\n",
    "         'Horizontal_Distance_To_Hydrology',\n",
    "         'Vertical_Distance_To_Hydrology',\n",
    "         'Horizontal_Distance_To_Roadways',\n",
    "         'Hillshade_9am',\n",
    "         'Hillshade_Noon',\n",
    "         'Hillshade_3pm',\n",
    "         'Horizontal_Distance_To_Fire_Points',\n",
    "         'Wilderness_Area0_i',\n",
    "         'Wilderness_Area1_i',\n",
    "         'Wilderness_Area2_i',\n",
    "         'Wilderness_Area3_i',\n",
    "         'Soil_Type0_i',\n",
    "        'Soil_Type1_i',\n",
    "        'Soil_Type2_i',\n",
    "        'Soil_Type3_i',\n",
    "        'Soil_Type4_i',\n",
    "        'Soil_Type5_i',\n",
    "        'Soil_Type6_i',\n",
    "        'Soil_Type7_i',\n",
    "        'Soil_Type8_i',\n",
    "        'Soil_Type9_i',\n",
    "        'Soil_Type10_i',\n",
    "        'Soil_Type11_i',\n",
    "        'Soil_Type12_i',\n",
    "        'Soil_Type13_i',\n",
    "        'Soil_Type14_i',\n",
    "        'Soil_Type15_i',\n",
    "        'Soil_Type16_i',\n",
    "        'Soil_Type17_i',\n",
    "        'Soil_Type18_i',\n",
    "        'Soil_Type19_i',\n",
    "        'Soil_Type20_i',\n",
    "        'Soil_Type21_i',\n",
    "        'Soil_Type22_i',\n",
    "        'Soil_Type23_i',\n",
    "        'Soil_Type24_i',\n",
    "        'Soil_Type25_i',\n",
    "        'Soil_Type26_i',\n",
    "        'Soil_Type27_i',\n",
    "        'Soil_Type28_i',\n",
    "        'Soil_Type29_i',\n",
    "        'Soil_Type30_i',\n",
    "        'Soil_Type31_i',\n",
    "        'Soil_Type32_i',\n",
    "        'Soil_Type33_i',\n",
    "        'Soil_Type34_i',\n",
    "        'Soil_Type35_i',\n",
    "        'Soil_Type36_i',\n",
    "        'Soil_Type37_i',\n",
    "        'Soil_Type38_i',\n",
    "        'Soil_Type39_i',\n",
    "        'Cover_Type']"
   ]
  },
  {
   "cell_type": "code",
   "execution_count": 51,
   "metadata": {
    "collapsed": true
   },
   "outputs": [],
   "source": [
    "from pyspark.mllib.regression import LabeledPoint\n",
    "#Turn it into RDD of LabeledPoints\n",
    "rdd=rdd.map(lambda x: LabeledPoint(x[0],x[1]))# Subtract 1 from label so it goes from 0-6 not 1-7"
   ]
  },
  {
   "cell_type": "code",
   "execution_count": 52,
   "metadata": {
    "collapsed": true
   },
   "outputs": [],
   "source": [
    "(trainingData, testData) = rdd.randomSplit([0.7, 0.3])"
   ]
  },
  {
   "cell_type": "code",
   "execution_count": 57,
   "metadata": {
    "collapsed": false
   },
   "outputs": [
    {
     "name": "stdout",
     "output_type": "stream",
     "text": [
      "CPU times: user 24.8 ms, sys: 9.24 ms, total: 34 ms\n",
      "Wall time: 3min 3s\n"
     ]
    }
   ],
   "source": [
    "%time model = RandomForest.trainClassifier(trainingData, numClasses=7, \\\n",
    "                                           categoricalFeaturesInfo={},\\\n",
    "                                     numTrees=20, featureSubsetStrategy=\"auto\",\\\n",
    "                                     impurity='gini', maxDepth=30, maxBins=32)"
   ]
  },
  {
   "cell_type": "code",
   "execution_count": 180,
   "metadata": {
    "collapsed": false
   },
   "outputs": [
    {
     "name": "stdout",
     "output_type": "stream",
     "text": [
      "Test Error = 0.319556474779\n",
      "Learned classification forest model:\n",
      "TreeEnsembleModel classifier with 5 trees\n",
      "\n",
      "  Tree 0:\n",
      "    If (feature 0 <= 3049.0)\n",
      "     If (feature 15 <= 0.0)\n",
      "      If (feature 0 <= 2558.0)\n",
      "       If (feature 13 <= 0.0)\n",
      "        Predict: 1.0\n",
      "       Else (feature 13 > 0.0)\n",
      "        Predict: 2.0\n",
      "      Else (feature 0 > 2558.0)\n",
      "       If (feature 0 <= 2953.0)\n",
      "        Predict: 1.0\n",
      "       Else (feature 0 > 2953.0)\n",
      "        Predict: 1.0\n",
      "     Else (feature 15 > 0.0)\n",
      "      If (feature 9 <= 1345.0)\n",
      "       If (feature 9 <= 309.0)\n",
      "        Predict: 5.0\n",
      "       Else (feature 9 > 309.0)\n",
      "        Predict: 2.0\n",
      "      Else (feature 9 > 1345.0)\n",
      "       If (feature 0 <= 2620.0)\n",
      "        Predict: 2.0\n",
      "       Else (feature 0 > 2620.0)\n",
      "        Predict: 2.0\n",
      "    Else (feature 0 > 3049.0)\n",
      "     If (feature 45 <= 0.0)\n",
      "      If (feature 12 <= 0.0)\n",
      "       If (feature 38 <= 0.0)\n",
      "        Predict: 0.0\n",
      "       Else (feature 38 > 0.0)\n",
      "        Predict: 1.0\n",
      "      Else (feature 12 > 0.0)\n",
      "       If (feature 33 <= 0.0)\n",
      "        Predict: 0.0\n",
      "       Else (feature 33 > 0.0)\n",
      "        Predict: 0.0\n",
      "     Else (feature 45 > 0.0)\n",
      "      If (feature 6 <= 218.0)\n",
      "       If (feature 0 <= 3142.0)\n",
      "        Predict: 1.0\n",
      "       Else (feature 0 > 3142.0)\n",
      "        Predict: 0.0\n",
      "      Else (feature 6 > 218.0)\n",
      "       If (feature 0 <= 3317.0)\n",
      "        Predict: 1.0\n",
      "       Else (feature 0 > 3317.0)\n",
      "        Predict: 0.0\n",
      "  Tree 1:\n",
      "    If (feature 52 <= 0.0)\n",
      "     If (feature 13 <= 0.0)\n",
      "      If (feature 0 <= 3049.0)\n",
      "       If (feature 12 <= 0.0)\n",
      "        Predict: 1.0\n",
      "       Else (feature 12 > 0.0)\n",
      "        Predict: 1.0\n",
      "      Else (feature 0 > 3049.0)\n",
      "       If (feature 5 <= 902.0)\n",
      "        Predict: 0.0\n",
      "       Else (feature 5 > 902.0)\n",
      "        Predict: 0.0\n",
      "     Else (feature 13 > 0.0)\n",
      "      Predict: 2.0\n",
      "    Else (feature 52 > 0.0)\n",
      "     If (feature 6 <= 207.0)\n",
      "      If (feature 12 <= 0.0)\n",
      "       If (feature 11 <= 0.0)\n",
      "        Predict: 0.0\n",
      "       Else (feature 11 > 0.0)\n",
      "        Predict: 0.0\n",
      "      Else (feature 12 > 0.0)\n",
      "       If (feature 0 <= 3371.0)\n",
      "        Predict: 0.0\n",
      "       Else (feature 0 > 3371.0)\n",
      "        Predict: 6.0\n",
      "     Else (feature 6 > 207.0)\n",
      "      If (feature 4 <= 148.0)\n",
      "       If (feature 12 <= 0.0)\n",
      "        Predict: 0.0\n",
      "       Else (feature 12 > 0.0)\n",
      "        Predict: 6.0\n",
      "      Else (feature 4 > 148.0)\n",
      "       If (feature 12 <= 0.0)\n",
      "        Predict: 6.0\n",
      "       Else (feature 12 > 0.0)\n",
      "        Predict: 6.0\n",
      "  Tree 2:\n",
      "    If (feature 13 <= 0.0)\n",
      "     If (feature 15 <= 0.0)\n",
      "      If (feature 17 <= 0.0)\n",
      "       If (feature 35 <= 0.0)\n",
      "        Predict: 1.0\n",
      "       Else (feature 35 > 0.0)\n",
      "        Predict: 0.0\n",
      "      Else (feature 17 > 0.0)\n",
      "       If (feature 4 <= 123.0)\n",
      "        Predict: 2.0\n",
      "       Else (feature 4 > 123.0)\n",
      "        Predict: 1.0\n",
      "     Else (feature 15 > 0.0)\n",
      "      If (feature 7 <= 231.0)\n",
      "       If (feature 8 <= 115.0)\n",
      "        Predict: 2.0\n",
      "       Else (feature 8 > 115.0)\n",
      "        Predict: 2.0\n",
      "      Else (feature 7 > 231.0)\n",
      "       Predict: 2.0\n",
      "    Else (feature 13 > 0.0)\n",
      "     If (feature 30 <= 0.0)\n",
      "      If (feature 16 <= 0.0)\n",
      "       If (feature 0 <= 2455.0)\n",
      "        Predict: 2.0\n",
      "       Else (feature 0 > 2455.0)\n",
      "        Predict: 1.0\n",
      "      Else (feature 16 > 0.0)\n",
      "       If (feature 0 <= 2307.0)\n",
      "        Predict: 3.0\n",
      "       Else (feature 0 > 2307.0)\n",
      "        Predict: 2.0\n",
      "     Else (feature 30 > 0.0)\n",
      "      Predict: 3.0\n",
      "  Tree 3:\n",
      "    If (feature 35 <= 0.0)\n",
      "     If (feature 23 <= 0.0)\n",
      "      If (feature 17 <= 0.0)\n",
      "       If (feature 52 <= 0.0)\n",
      "        Predict: 1.0\n",
      "       Else (feature 52 > 0.0)\n",
      "        Predict: 0.0\n",
      "      Else (feature 17 > 0.0)\n",
      "       Predict: 2.0\n",
      "     Else (feature 23 > 0.0)\n",
      "      If (feature 5 <= 1606.0)\n",
      "       If (feature 7 <= 179.0)\n",
      "        Predict: 2.0\n",
      "       Else (feature 7 > 179.0)\n",
      "        Predict: 2.0\n",
      "      Else (feature 5 > 1606.0)\n",
      "       If (feature 9 <= 2430.0)\n",
      "        Predict: 1.0\n",
      "       Else (feature 9 > 2430.0)\n",
      "        Predict: 0.0\n",
      "    Else (feature 35 > 0.0)\n",
      "     If (feature 3 <= 95.0)\n",
      "      If (feature 7 <= 242.0)\n",
      "       If (feature 4 <= 8.0)\n",
      "        Predict: 0.0\n",
      "       Else (feature 4 > 8.0)\n",
      "        Predict: 0.0\n",
      "      Else (feature 7 > 242.0)\n",
      "       If (feature 0 <= 3206.0)\n",
      "        Predict: 0.0\n",
      "       Else (feature 0 > 3206.0)\n",
      "        Predict: 0.0\n",
      "     Else (feature 3 > 95.0)\n",
      "      If (feature 12 <= 0.0)\n",
      "       If (feature 6 <= 229.0)\n",
      "        Predict: 0.0\n",
      "       Else (feature 6 > 229.0)\n",
      "        Predict: 0.0\n",
      "      Else (feature 12 > 0.0)\n",
      "       If (feature 6 <= 223.0)\n",
      "        Predict: 0.0\n",
      "       Else (feature 6 > 223.0)\n",
      "        Predict: 0.0\n",
      "  Tree 4:\n",
      "    If (feature 17 <= 0.0)\n",
      "     If (feature 0 <= 3049.0)\n",
      "      If (feature 0 <= 2455.0)\n",
      "       If (feature 23 <= 0.0)\n",
      "        Predict: 2.0\n",
      "       Else (feature 23 > 0.0)\n",
      "        Predict: 2.0\n",
      "      Else (feature 0 > 2455.0)\n",
      "       If (feature 3 <= 67.0)\n",
      "        Predict: 1.0\n",
      "       Else (feature 3 > 67.0)\n",
      "        Predict: 1.0\n",
      "     Else (feature 0 > 3049.0)\n",
      "      If (feature 51 <= 0.0)\n",
      "       If (feature 0 <= 3317.0)\n",
      "        Predict: 0.0\n",
      "       Else (feature 0 > 3317.0)\n",
      "        Predict: 0.0\n",
      "      Else (feature 51 > 0.0)\n",
      "       If (feature 1 <= 45.0)\n",
      "        Predict: 0.0\n",
      "       Else (feature 1 > 45.0)\n",
      "        Predict: 0.0\n",
      "    Else (feature 17 > 0.0)\n",
      "     If (feature 6 <= 207.0)\n",
      "      If (feature 9 <= 1187.0)\n",
      "       If (feature 5 <= 2259.0)\n",
      "        Predict: 2.0\n",
      "       Else (feature 5 > 2259.0)\n",
      "        Predict: 1.0\n",
      "      Else (feature 9 > 1187.0)\n",
      "       If (feature 12 <= 0.0)\n",
      "        Predict: 2.0\n",
      "       Else (feature 12 > 0.0)\n",
      "        Predict: 1.0\n",
      "     Else (feature 6 > 207.0)\n",
      "      If (feature 4 <= 123.0)\n",
      "       If (feature 2 <= 9.0)\n",
      "        Predict: 2.0\n",
      "       Else (feature 2 > 9.0)\n",
      "        Predict: 2.0\n",
      "      Else (feature 4 > 123.0)\n",
      "       If (feature 9 <= 1429.0)\n",
      "        Predict: 2.0\n",
      "       Else (feature 9 > 1429.0)\n",
      "        Predict: 1.0\n",
      "\n"
     ]
    }
   ],
   "source": [
    "predictions = model.predict(testData.map(lambda x: x.features))\n",
    "labelsAndPredictions = testData.map(lambda lp: lp.label).zip(predictions)\n",
    "testErr = labelsAndPredictions.filter(lambda (v, p): v != p).count() / float(testData.count())\n",
    "print('Test Error = ' + str(testErr))\n",
    "print('Learned classification forest model:')\n",
    "print(model.toDebugString())"
   ]
  },
  {
   "cell_type": "code",
   "execution_count": 34,
   "metadata": {
    "collapsed": true
   },
   "outputs": [],
   "source": [
    "###Plot for comparison"
   ]
  },
  {
   "cell_type": "code",
   "execution_count": 35,
   "metadata": {
    "collapsed": true
   },
   "outputs": [],
   "source": [
    "import matplotlib.pyplot as plt"
   ]
  },
  {
   "cell_type": "code",
   "execution_count": null,
   "metadata": {
    "collapsed": true
   },
   "outputs": [],
   "source": [
    "numtrees = [5,10,15,20,25]\n",
    "mllib=[8.59, 11.5, 15, 31, 36.5]\n",
    "our_code = [11.59, 23.83, 32.98, 34.2, 41.2]"
   ]
  }
 ],
 "metadata": {
  "kernelspec": {
   "display_name": "Python 2",
   "language": "python",
   "name": "python2"
  },
  "language_info": {
   "codemirror_mode": {
    "name": "ipython",
    "version": 2
   },
   "file_extension": ".py",
   "mimetype": "text/x-python",
   "name": "python",
   "nbconvert_exporter": "python",
   "pygments_lexer": "ipython2",
   "version": "2.7.10"
  }
 },
 "nbformat": 4,
 "nbformat_minor": 0
}
